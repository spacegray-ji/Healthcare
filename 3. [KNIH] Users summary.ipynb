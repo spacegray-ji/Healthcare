{
 "cells": [
  {
   "cell_type": "code",
   "execution_count": 1,
   "id": "04a16a2f-f04b-4349-9040-6687af21e3a7",
   "metadata": {},
   "outputs": [],
   "source": [
    "import os\n",
    "import sys\n",
    "import math\n",
    "import time\n",
    "import json\n",
    "import requests\n",
    "import numpy as np\n",
    "import pandas as pd\n",
    "from datetime import datetime, timedelta\n",
    "import datetime\n",
    "from datetime import timedelta"
   ]
  },
  {
   "cell_type": "code",
   "execution_count": 43,
   "id": "f7639b78-fe5b-4d1d-80e8-fff0ada2981e",
   "metadata": {},
   "outputs": [],
   "source": [
    "def print_users(userInfo_path):\n",
    "    \n",
    "    with open(userInfo_path) as f:\n",
    "        users = f.read().splitlines()\n",
    "\n",
    "    cnt1 = 0\n",
    "    st_date = []\n",
    "    usr_cnt = []\n",
    "    usr_list = []\n",
    "\n",
    "\n",
    "    for i in users:\n",
    "        if int(i) > 1000:\n",
    "            st_date.append(i)\n",
    "            usr_cnt.append(cnt1)\n",
    "            cnt1 = 0\n",
    "        else:\n",
    "            usr_list.append(i)\n",
    "            cnt1 += 1\n",
    "\n",
    "    usr_cnt.append(cnt1)\n",
    "    for i, j in enumerate(st_date):\n",
    "        print(\"Started on \" + str(j) + \": \" + str(usr_cnt[i+1]))\n",
    "    \n",
    "    print(\"Total: \" + str(len(usr_list)))"
   ]
  },
  {
   "cell_type": "code",
   "execution_count": 44,
   "id": "6c50b45d-0113-41ff-ba90-8ec47d711eac",
   "metadata": {},
   "outputs": [
    {
     "name": "stdout",
     "output_type": "stream",
     "text": [
      "Started on 20220831: 8\n",
      "Started on 20220901: 45\n",
      "Started on 20220902: 1\n",
      "Started on 20220904: 2\n",
      "Started on 20220905: 1\n",
      "Started on 20220915: 17\n",
      "Started on 20220920: 7\n",
      "Started on 20220921: 30\n",
      "Started on 20220930: 6\n",
      "Total: 117\n"
     ]
    }
   ],
   "source": [
    "print_users(\"./users.txt\")"
   ]
  }
 ],
 "metadata": {
  "kernelspec": {
   "display_name": "Python 3.9.12 ('knih')",
   "language": "python",
   "name": "python3"
  },
  "language_info": {
   "codemirror_mode": {
    "name": "ipython",
    "version": 3
   },
   "file_extension": ".py",
   "mimetype": "text/x-python",
   "name": "python",
   "nbconvert_exporter": "python",
   "pygments_lexer": "ipython3",
   "version": "3.9.12"
  },
  "vscode": {
   "interpreter": {
    "hash": "f5b9e6446463bd2ac844aa31f01a94370002b9bed8b3d699343cd87416ad933a"
   }
  }
 },
 "nbformat": 4,
 "nbformat_minor": 5
}
