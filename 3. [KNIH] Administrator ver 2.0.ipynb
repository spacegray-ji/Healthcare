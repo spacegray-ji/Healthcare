{
 "cells": [
  {
   "cell_type": "markdown",
   "id": "4be7363b-b48e-400a-ae8e-1d0716f93337",
   "metadata": {
    "tags": []
   },
   "source": [
    "# [KNIH] Mobius functions for Administrator\n",
    "#### author: Geonwoo Ji\n",
    "#### ver 2.0"
   ]
  },
  {
   "cell_type": "markdown",
   "id": "99f5da17-ff2b-43f9-9cb3-df995ecea3d7",
   "metadata": {
    "tags": []
   },
   "source": [
    "## Function Pack"
   ]
  },
  {
   "cell_type": "markdown",
   "id": "9597c2dd-86a9-45a4-aac8-b30a7be85859",
   "metadata": {
    "tags": []
   },
   "source": [
    "#### Import"
   ]
  },
  {
   "cell_type": "code",
   "execution_count": 4,
   "id": "2402c8ea-f366-4539-961a-2b05deb0b2f2",
   "metadata": {},
   "outputs": [],
   "source": [
    "import requests\n",
    "\n",
    "KETI_161 = 'SERVER_IP'\n",
    "KETI_177 = 'SERVER_IP'\n",
    "IoT_1 = 'SERVER_IP'"
   ]
  },
  {
   "cell_type": "markdown",
   "id": "8ea9bf0e-a87b-45e1-905d-6cb690a11097",
   "metadata": {
    "tags": []
   },
   "source": [
    "#### Create AE"
   ]
  },
  {
   "cell_type": "code",
   "execution_count": 2,
   "id": "107af837-d6f1-49e9-8de4-16364d215a73",
   "metadata": {},
   "outputs": [],
   "source": [
    "def createAE(aeName):\n",
    "    url = IoT_1 + \"/Mobius\"\n",
    "    payload = \"{\\n  \\\"m2m:ae\\\" : {\\n    \\\"rn\\\": \\\"\" + aeName + \"\\\",\\n      \\\"api\\\": \\\"0.2.481.2.0001.001.000111\\\",\\n      \\\"lbl\\\": [\\\"key1\\\", \\\"key2\\\"],\\n      \\\"rr\\\": true,\\n      \\\"poa\\\": [\\\"http://114.71.220.59:9727\\\"]\\n    }\\n}\"\n",
    "    headers = {\n",
    "      'Accept': 'application/json',\n",
    "      'X-M2M-RI': '12345',\n",
    "      'X-M2M-Origin': 'S',\n",
    "      'Content-Type': 'application/vnd.onem2m-res+json;ty=2'\n",
    "    }\n",
    "    \n",
    "    response = requests.request(\"POST\", url, headers=headers, data=payload)\n",
    "    # print(response.text)"
   ]
  },
  {
   "cell_type": "code",
   "execution_count": 3,
   "id": "e6167c08-24fe-4050-aa0a-9626a843b9d0",
   "metadata": {},
   "outputs": [],
   "source": [
    "# createAE('S999')"
   ]
  },
  {
   "cell_type": "markdown",
   "id": "df970a84-131a-41b8-a694-f48d419482b3",
   "metadata": {
    "tags": []
   },
   "source": [
    "#### Create CNTW - Android"
   ]
  },
  {
   "cell_type": "code",
   "execution_count": 3,
   "id": "d38a2fd7-02f4-4321-8c25-5feedb05370f",
   "metadata": {},
   "outputs": [],
   "source": [
    "def createCNTW(aeName):\n",
    "    url1 = IoT_1 + \"/Mobius/\" + aeName\n",
    "    url2 = IoT_1 + \"/Mobius/\" + aeName + \"/watch\"\n",
    "\n",
    "    payload1 = \"{\\n  \\\"m2m:cnt\\\": {\\n    \\\"rn\\\": \\\"watch\\\",\\n    \\\"lbl\\\": [\\\"watch\\\"]\\n  }\\n}\"\n",
    "    \n",
    "    payload2 = \"{\\n  \\\"m2m:cnt\\\": {\\n    \\\"rn\\\": \\\"wAcc\\\",\\n    \\\"lbl\\\": [\\\"wAcc\\\"]\\n  }\\n}\"\n",
    "    payload3 = \"{\\n  \\\"m2m:cnt\\\": {\\n    \\\"rn\\\": \\\"wGyr\\\",\\n    \\\"lbl\\\": [\\\"wGyr\\\"]\\n  }\\n}\"\n",
    "    payload4 = \"{\\n  \\\"m2m:cnt\\\": {\\n    \\\"rn\\\": \\\"wPre\\\",\\n    \\\"lbl\\\": [\\\"wPre\\\"]\\n  }\\n}\"\n",
    "    payload5 = \"{\\n  \\\"m2m:cnt\\\": {\\n    \\\"rn\\\": \\\"wHR\\\",\\n    \\\"lbl\\\": [\\\"wHR\\\"]\\n  }\\n}\"\n",
    "    \n",
    "    headers = {\n",
    "      'Accept': 'application/json',\n",
    "      'X-M2M-RI': '12345',\n",
    "      'X-M2M-Origin': 'Subicomp_create',\n",
    "      'Content-Type': 'application/vnd.onem2m-res+json; ty=3'\n",
    "    }\n",
    "\n",
    "    response = requests.request(\"POST\", url1, headers=headers, data=payload1)\n",
    "    # print(response.text)\n",
    "    response = requests.request(\"POST\", url2, headers=headers, data=payload2)\n",
    "    # print(response.text)\n",
    "    response = requests.request(\"POST\", url2, headers=headers, data=payload3)    \n",
    "    # print(response.text)\n",
    "    response = requests.request(\"POST\", url2, headers=headers, data=payload4)\n",
    "    # print(response.text)\n",
    "    response = requests.request(\"POST\", url2, headers=headers, data=payload5)\n",
    "    # print(response.text)"
   ]
  },
  {
   "cell_type": "code",
   "execution_count": 5,
   "id": "d5a5da30-bb00-49e8-ace6-6aa94c772f29",
   "metadata": {},
   "outputs": [],
   "source": [
    "# createCNTW('S998')"
   ]
  },
  {
   "cell_type": "markdown",
   "id": "069d16e4-85de-41b9-9508-dc9ffd1729ef",
   "metadata": {
    "tags": []
   },
   "source": [
    "#### Create CNTM - Android"
   ]
  },
  {
   "cell_type": "code",
   "execution_count": 4,
   "id": "8f568a61-19b1-444e-854d-0b14edf2dede",
   "metadata": {},
   "outputs": [],
   "source": [
    "def createCNTM(aeName):\n",
    "    url1 = IoT_1 + \"/Mobius/\" + aeName\n",
    "    url2 = IoT_1 + \"/Mobius/\" + aeName + \"/mobile\"\n",
    "    \n",
    "    payload1 = \"{\\n  \\\"m2m:cnt\\\": {\\n    \\\"rn\\\": \\\"mobile\\\",\\n    \\\"lbl\\\": [\\\"mobile\\\"]\\n  }\\n}\"\n",
    "    \n",
    "\n",
    "    payload2 = \"{\\n  \\\"m2m:cnt\\\": {\\n    \\\"rn\\\": \\\"mAcc\\\",\\n    \\\"lbl\\\": [\\\"mAcc\\\"]\\n  }\\n}\"\n",
    "    payload3 = \"{\\n  \\\"m2m:cnt\\\": {\\n    \\\"rn\\\": \\\"mGyr\\\",\\n    \\\"lbl\\\": [\\\"mGyr\\\"]\\n  }\\n}\"\n",
    "    payload4 = \"{\\n  \\\"m2m:cnt\\\": {\\n    \\\"rn\\\": \\\"mPre\\\",\\n    \\\"lbl\\\": [\\\"mPre\\\"]\\n  }\\n}\"\n",
    "    payload5 = \"{\\n  \\\"m2m:cnt\\\": {\\n    \\\"rn\\\": \\\"mLi\\\",\\n    \\\"lbl\\\": [\\\"mLi\\\"]\\n  }\\n}\"\n",
    "    \n",
    "    headers = {\n",
    "      'Accept': 'application/json',\n",
    "      'X-M2M-RI': '12345',\n",
    "      'X-M2M-Origin': 'Subicomp_create',\n",
    "      'Content-Type': 'application/vnd.onem2m-res+json; ty=3'\n",
    "    }\n",
    "\n",
    "    response = requests.request(\"POST\", url1, headers=headers, data=payload1)\n",
    "    # print(response.text)\n",
    "    response = requests.request(\"POST\", url2, headers=headers, data=payload2)\n",
    "    # print(response.text)\n",
    "    response = requests.request(\"POST\", url2, headers=headers, data=payload3)    \n",
    "    # print(response.text)\n",
    "    response = requests.request(\"POST\", url2, headers=headers, data=payload4)\n",
    "    # print(response.text)\n",
    "    response = requests.request(\"POST\", url2, headers=headers, data=payload5)\n",
    "    # print(response.text)"
   ]
  },
  {
   "cell_type": "code",
   "execution_count": 7,
   "id": "b0f132c0-32e3-4596-944b-cdb74b638bfe",
   "metadata": {},
   "outputs": [],
   "source": [
    "# createCNTM('S998')"
   ]
  },
  {
   "cell_type": "markdown",
   "id": "f626e0ef-1a37-45e1-a422-41ee05ae39fe",
   "metadata": {},
   "source": [
    "#### Create CNTM - iOS"
   ]
  },
  {
   "cell_type": "code",
   "execution_count": 5,
   "id": "2c8d3d29-7729-4bbb-850f-c5f4dd7a75da",
   "metadata": {},
   "outputs": [],
   "source": [
    "def createCNTMI(aeName):\n",
    "    url1 = IoT_1 + \"/Mobius/\" + aeName\n",
    "    url2 = IoT_1 + \"/Mobius/\" + aeName + \"/mobile\"\n",
    "    \n",
    "    payload1 = \"{\\n  \\\"m2m:cnt\\\": {\\n    \\\"rn\\\": \\\"mobile\\\",\\n    \\\"lbl\\\": [\\\"mobile\\\"]\\n  }\\n}\"\n",
    "    \n",
    "\n",
    "    payload2 = \"{\\n  \\\"m2m:cnt\\\": {\\n    \\\"rn\\\": \\\"mAcc\\\",\\n    \\\"lbl\\\": [\\\"mAcc\\\"]\\n  }\\n}\"\n",
    "    payload3 = \"{\\n  \\\"m2m:cnt\\\": {\\n    \\\"rn\\\": \\\"mGyr\\\",\\n    \\\"lbl\\\": [\\\"mGyr\\\"]\\n  }\\n}\"\n",
    "    payload4 = \"{\\n  \\\"m2m:cnt\\\": {\\n    \\\"rn\\\": \\\"mPre\\\",\\n    \\\"lbl\\\": [\\\"mPre\\\"]\\n  }\\n}\"\n",
    "    # payload5 = \"{\\n  \\\"m2m:cnt\\\": {\\n    \\\"rn\\\": \\\"mLi\\\",\\n    \\\"lbl\\\": [\\\"mLi\\\"]\\n  }\\n}\"\n",
    "    \n",
    "    headers = {\n",
    "      'Accept': 'application/json',\n",
    "      'X-M2M-RI': '12345',\n",
    "      'X-M2M-Origin': 'Subicomp_create',\n",
    "      'Content-Type': 'application/vnd.onem2m-res+json; ty=3'\n",
    "    }\n",
    "\n",
    "    response = requests.request(\"POST\", url1, headers=headers, data=payload1)\n",
    "    # print(response.text)\n",
    "    response = requests.request(\"POST\", url2, headers=headers, data=payload2)\n",
    "    # print(response.text)\n",
    "    response = requests.request(\"POST\", url2, headers=headers, data=payload3)    \n",
    "    # print(response.text)\n",
    "    response = requests.request(\"POST\", url2, headers=headers, data=payload4)\n",
    "    # print(response.text)\n",
    "    # response = requests.request(\"POST\", url2, headers=headers, data=payload5)\n",
    "    # print(response.text)"
   ]
  },
  {
   "cell_type": "markdown",
   "id": "535e3d04-7e67-409d-aa89-af5db406d5d9",
   "metadata": {},
   "source": [
    "#### Create CNTMI (Health) - iOS"
   ]
  },
  {
   "cell_type": "code",
   "execution_count": 6,
   "id": "75816008-6cbe-44e1-b89c-403fdd245daa",
   "metadata": {},
   "outputs": [],
   "source": [
    "def createCNTH(aeName):\n",
    "    url1 = IoT_1 + \"/Mobius/\" + aeName\n",
    "    url2 = IoT_1 + \"/Mobius/\" + aeName + \"/health\"\n",
    "    \n",
    "    payload1 = \"{\\n  \\\"m2m:cnt\\\": {\\n    \\\"rn\\\": \\\"health\\\",\\n    \\\"lbl\\\": [\\\"health\\\"]\\n  }\\n}\"\n",
    "    \n",
    "\n",
    "    payload2 = \"{\\n  \\\"m2m:cnt\\\": {\\n    \\\"rn\\\": \\\"calories\\\",\\n    \\\"lbl\\\": [\\\"calories\\\"]\\n  }\\n}\"\n",
    "    payload3 = \"{\\n  \\\"m2m:cnt\\\": {\\n    \\\"rn\\\": \\\"distance\\\",\\n    \\\"lbl\\\": [\\\"distance\\\"]\\n  }\\n}\"\n",
    "    payload4 = \"{\\n  \\\"m2m:cnt\\\": {\\n    \\\"rn\\\": \\\"sleep\\\",\\n    \\\"lbl\\\": [\\\"sleep\\\"]\\n  }\\n}\"\n",
    "    payload5 = \"{\\n  \\\"m2m:cnt\\\": {\\n    \\\"rn\\\": \\\"steps\\\",\\n    \\\"lbl\\\": [\\\"steps\\\"]\\n  }\\n}\"\n",
    "    \n",
    "    headers = {\n",
    "      'Accept': 'application/json',\n",
    "      'X-M2M-RI': '12345',\n",
    "      'X-M2M-Origin': 'Subicomp_create',\n",
    "      'Content-Type': 'application/vnd.onem2m-res+json; ty=3'\n",
    "    }\n",
    "\n",
    "    response = requests.request(\"POST\", url1, headers=headers, data=payload1)\n",
    "    # print(response.text)\n",
    "    response = requests.request(\"POST\", url2, headers=headers, data=payload2)\n",
    "    # print(response.text)\n",
    "    response = requests.request(\"POST\", url2, headers=headers, data=payload3)    \n",
    "    # print(response.text)\n",
    "    response = requests.request(\"POST\", url2, headers=headers, data=payload4)\n",
    "    # # print(response.text)\n",
    "    response = requests.request(\"POST\", url2, headers=headers, data=payload5)\n",
    "    # print(response.text)"
   ]
  },
  {
   "cell_type": "code",
   "execution_count": 5,
   "id": "09ea0bf9-6edc-4a28-80d7-cc630e6e53f0",
   "metadata": {},
   "outputs": [],
   "source": [
    "def createCNTH2(aeName):\n",
    "    url1 = IoT_1 + \"/Mobius/\" + aeName\n",
    "    url2 = IoT_1 + \"/Mobius/\" + aeName + \"/health\"\n",
    "    url3 = IoT_1 + \"/Mobius/\" + aeName + \"/health/watch\"\n",
    "    url4 = IoT_1 + \"/Mobius/\" + aeName + \"/health/iphone\"\n",
    "    \n",
    "    payload1 = \"{\\n  \\\"m2m:cnt\\\": {\\n    \\\"rn\\\": \\\"health\\\",\\n    \\\"lbl\\\": [\\\"health\\\"]\\n  }\\n}\"\n",
    "    payload2 = \"{\\n  \\\"m2m:cnt\\\": {\\n    \\\"rn\\\": \\\"watch\\\",\\n    \\\"lbl\\\": [\\\"watch\\\"]\\n  }\\n}\"\n",
    "    payload3 = \"{\\n  \\\"m2m:cnt\\\": {\\n    \\\"rn\\\": \\\"iphone\\\",\\n    \\\"lbl\\\": [\\\"iphone\\\"]\\n  }\\n}\"\n",
    "    \n",
    "\n",
    "    payload4 = \"{\\n  \\\"m2m:cnt\\\": {\\n    \\\"rn\\\": \\\"steps\\\",\\n    \\\"lbl\\\": [\\\"steps\\\"]\\n  }\\n}\"\n",
    "    payload5 = \"{\\n  \\\"m2m:cnt\\\": {\\n    \\\"rn\\\": \\\"sleep\\\",\\n    \\\"lbl\\\": [\\\"sleep\\\"]\\n  }\\n}\"\n",
    "    payload6 = \"{\\n  \\\"m2m:cnt\\\": {\\n    \\\"rn\\\": \\\"HR\\\",\\n    \\\"lbl\\\": [\\\"HR\\\"]\\n  }\\n}\"\n",
    "    payload7 = \"{\\n  \\\"m2m:cnt\\\": {\\n    \\\"rn\\\": \\\"distance\\\",\\n    \\\"lbl\\\": [\\\"distance\\\"]\\n  }\\n}\"\n",
    "    payload8 = \"{\\n  \\\"m2m:cnt\\\": {\\n    \\\"rn\\\": \\\"calories\\\",\\n    \\\"lbl\\\": [\\\"calories\\\"]\\n  }\\n}\"\n",
    "\n",
    "    \n",
    "    headers = {\n",
    "      'Accept': 'application/json',\n",
    "      'X-M2M-RI': '12345',\n",
    "      'X-M2M-Origin': 'Subicomp_create',\n",
    "      'Content-Type': 'application/vnd.onem2m-res+json; ty=3'\n",
    "    }\n",
    "\n",
    "    # response = requests.request(\"POST\", url1, headers=headers, data=payload1)\n",
    "    # print(response.text)\n",
    "    response = requests.request(\"POST\", url2, headers=headers, data=payload2)\n",
    "    # print(response.text)\n",
    "    response = requests.request(\"POST\", url2, headers=headers, data=payload3)    \n",
    "    # print(response.text)\n",
    "    \n",
    "    \n",
    "    response = requests.request(\"POST\", url3, headers=headers, data=payload4)\n",
    "    # # print(response.text)\n",
    "    response = requests.request(\"POST\", url3, headers=headers, data=payload5)\n",
    "    # print(response.text)\n",
    "    response = requests.request(\"POST\", url3, headers=headers, data=payload6)\n",
    "    # print(response.text)\n",
    "    response = requests.request(\"POST\", url3, headers=headers, data=payload7)\n",
    "    # print(response.text)\n",
    "    response = requests.request(\"POST\", url3, headers=headers, data=payload8)\n",
    "    # print(response.text)\n",
    "    \n",
    "    response = requests.request(\"POST\", url4, headers=headers, data=payload4)\n",
    "    # # print(response.text)\n",
    "    response = requests.request(\"POST\", url4, headers=headers, data=payload5)\n",
    "    # print(response.text)\n",
    "    response = requests.request(\"POST\", url4, headers=headers, data=payload6)\n",
    "    # print(response.text)\n",
    "    response = requests.request(\"POST\", url4, headers=headers, data=payload7)\n",
    "    # print(response.text)\n",
    "    response = requests.request(\"POST\", url4, headers=headers, data=payload8)\n",
    "    # print(response.text)"
   ]
  },
  {
   "cell_type": "code",
   "execution_count": 6,
   "id": "deaddc4b-7c53-41c4-90ba-ac6de7393deb",
   "metadata": {},
   "outputs": [],
   "source": [
    "createCNTH2(\"S732\")"
   ]
  },
  {
   "cell_type": "markdown",
   "id": "5c336fc4-948a-4707-8905-828a7acabe85",
   "metadata": {
    "tags": []
   },
   "source": [
    "#### Delete AE"
   ]
  },
  {
   "cell_type": "code",
   "execution_count": 7,
   "id": "66f52bd1-9177-4620-b101-158ec9cda3d9",
   "metadata": {},
   "outputs": [],
   "source": [
    "def deleteAE(aeName):\n",
    "    url = IoT_1 + \"/Mobius/\" + aeName \n",
    "    payload = \"\"\n",
    "    headers = {\n",
    "      'Accept': 'application/json',\n",
    "      'X-M2M-RI': '12345',\n",
    "      'X-M2M-Origin': 'Superman',\n",
    "    }\n",
    "    \n",
    "    response = requests.request(\"DELETE\", url, headers=headers, data=payload)\n",
    "    # print(response.text)"
   ]
  },
  {
   "cell_type": "markdown",
   "id": "3a47fef2-60df-4f2a-87c1-51595dc781be",
   "metadata": {
    "tags": []
   },
   "source": [
    "#### Delete CNTM - Android"
   ]
  },
  {
   "cell_type": "code",
   "execution_count": 8,
   "id": "9cbabd2a-fbf2-4303-8bf6-216c39cbdf3a",
   "metadata": {},
   "outputs": [],
   "source": [
    "def deleteCNTM(aeName):\n",
    "    url1 = IoT_1 + \"/Mobius/\" + aeName + '/mobile'\n",
    "    \n",
    "    url3 = IoT_1 + \"/Mobius/\" + aeName + '/mobile/mAcc'\n",
    "    url4 = IoT_1 + \"/Mobius/\" + aeName + '/mobile/mGyr'\n",
    "    url5 = IoT_1 + \"/Mobius/\" + aeName + '/mobile/mPre'\n",
    "    url6 = IoT_1 + \"/Mobius/\" + aeName + '/mobile/mLi'\n",
    "    \n",
    "    payload = \"\"\n",
    "    headers = {\n",
    "      'Accept': 'application/json',\n",
    "      'locale': 'ko',\n",
    "      'X-M2M-RI': '12345',\n",
    "      'X-M2M-Origin': 'Superman'\n",
    "    }\n",
    "    \n",
    "    response = requests.request(\"DELETE\", url3, headers=headers, data=payload)\n",
    "    response = requests.request(\"DELETE\", url4, headers=headers, data=payload)\n",
    "    response = requests.request(\"DELETE\", url5, headers=headers, data=payload)\n",
    "    response = requests.request(\"DELETE\", url6, headers=headers, data=payload)\n",
    "        \n",
    "    response = requests.request(\"DELETE\", url1, headers=headers, data=payload)\n",
    "    # print(response.text)"
   ]
  },
  {
   "cell_type": "markdown",
   "id": "9d49cd42-c9d2-4d07-a78b-d78e8e8f019f",
   "metadata": {
    "tags": []
   },
   "source": [
    "#### Delete CNTW - Android"
   ]
  },
  {
   "cell_type": "code",
   "execution_count": 9,
   "id": "926d9e7b-c17e-4605-861e-12b324cd7ac8",
   "metadata": {},
   "outputs": [],
   "source": [
    "def deleteCNTW(aeName):\n",
    "    url2 = IoT_1 + \"/Mobius/\" + aeName + '/watch'\n",
    "    \n",
    "    url7 = IoT_1 + \"/Mobius/\" + aeName + '/watch/wAcc'\n",
    "    url8 = IoT_1 + \"/Mobius/\" + aeName + '/watch/wGyr'\n",
    "    url9 = IoT_1 + \"/Mobius/\" + aeName + '/watch/wPre'\n",
    "    url10 = IoT_1 + \"/Mobius/\" + aeName + '/watch/wHR'\n",
    "\n",
    "    \n",
    "    \n",
    "    payload = \"\"\n",
    "    headers = {\n",
    "      'Accept': 'application/json',\n",
    "      'locale': 'ko',\n",
    "      'X-M2M-RI': '12345',\n",
    "      'X-M2M-Origin': 'Superman'\n",
    "    }\n",
    "    \n",
    "    response = requests.request(\"DELETE\", url7, headers=headers, data=payload)\n",
    "    response = requests.request(\"DELETE\", url8, headers=headers, data=payload)\n",
    "    response = requests.request(\"DELETE\", url9, headers=headers, data=payload)\n",
    "    response = requests.request(\"DELETE\", url10, headers=headers, data=payload)\n",
    "    \n",
    "    response = requests.request(\"DELETE\", url2, headers=headers, data=payload)\n",
    "    # print(response.text)"
   ]
  },
  {
   "cell_type": "markdown",
   "id": "fa39b163-0040-4d2b-92a2-db7a50106150",
   "metadata": {},
   "source": [
    "#### Delete CNTMI - iOS"
   ]
  },
  {
   "cell_type": "code",
   "execution_count": 10,
   "id": "a2840a9e-85c3-41fc-998a-0554db9006a2",
   "metadata": {},
   "outputs": [],
   "source": [
    "def deleteCNTI(aeName):\n",
    "    url1 = IoT_1 + \"/Mobius/\" + aeName + '/mobile'\n",
    "    \n",
    "    url3 = IoT_1 + \"/Mobius/\" + aeName + '/mobile/mAcc'\n",
    "    url4 = IoT_1 + \"/Mobius/\" + aeName + '/mobile/mGyr'\n",
    "    url5 = IoT_1 + \"/Mobius/\" + aeName + '/mobile/mPre'\n",
    "    \n",
    "    payload = \"\"\n",
    "    headers = {\n",
    "      'Accept': 'application/json',\n",
    "      'locale': 'ko',\n",
    "      'X-M2M-RI': '12345',\n",
    "      'X-M2M-Origin': 'Superman'\n",
    "    }\n",
    "    \n",
    "    response = requests.request(\"DELETE\", url3, headers=headers, data=payload)\n",
    "    response = requests.request(\"DELETE\", url4, headers=headers, data=payload)\n",
    "    response = requests.request(\"DELETE\", url5, headers=headers, data=payload)\n",
    "        \n",
    "    response = requests.request(\"DELETE\", url1, headers=headers, data=payload)\n",
    "    # print(response.text)"
   ]
  },
  {
   "cell_type": "markdown",
   "id": "6a223a1d-cbdb-46f8-a693-d4afc595d19f",
   "metadata": {},
   "source": [
    "#### Delete CNTH - iOS"
   ]
  },
  {
   "cell_type": "code",
   "execution_count": 11,
   "id": "942c8bc8-266c-4bf3-bd99-550bbd6ef942",
   "metadata": {},
   "outputs": [],
   "source": [
    "def deleteCNTH(aeName):\n",
    "    url1 = IoT_1 + \"/Mobius/\" + aeName + '/health'\n",
    "    \n",
    "    url3 = IoT_1 + \"/Mobius/\" + aeName + '/health/calories'\n",
    "    url4 = IoT_1 + \"/Mobius/\" + aeName + '/health/distance'\n",
    "    url5 = IoT_1 + \"/Mobius/\" + aeName + '/health/sleep'\n",
    "    url6 = IoT_1 + \"/Mobius/\" + aeName + '/health/steps'\n",
    "    \n",
    "    payload = \"\"\n",
    "    headers = {\n",
    "      'Accept': 'application/json',\n",
    "      'locale': 'ko',\n",
    "      'X-M2M-RI': '12345',\n",
    "      'X-M2M-Origin': 'Superman'\n",
    "    }\n",
    "    \n",
    "    response = requests.request(\"DELETE\", url3, headers=headers, data=payload)\n",
    "    response = requests.request(\"DELETE\", url4, headers=headers, data=payload)\n",
    "    response = requests.request(\"DELETE\", url5, headers=headers, data=payload)\n",
    "    response = requests.request(\"DELETE\", url6, headers=headers, data=payload)\n",
    "        \n",
    "    response = requests.request(\"DELETE\", url1, headers=headers, data=payload)\n",
    "    # print(response.text)"
   ]
  },
  {
   "cell_type": "markdown",
   "id": "049f31ed-0d7a-4904-a74b-242aba1c8da4",
   "metadata": {
    "tags": []
   },
   "source": [
    "## Server"
   ]
  },
  {
   "cell_type": "code",
   "execution_count": 12,
   "id": "f48c0501-bc4a-4853-98ae-c34c37cc7353",
   "metadata": {},
   "outputs": [],
   "source": [
    "KETI_161 = 'http://203.253.128.161:7579'\n",
    "KETI_177 = 'http://203.253.128.177:7579'\n",
    "IoT_1 = 'http://114.71.220.59:7579'"
   ]
  },
  {
   "cell_type": "markdown",
   "id": "d5af8691-2598-4af7-a224-9ac3fd4e9935",
   "metadata": {
    "tags": []
   },
   "source": [
    "# Automate"
   ]
  },
  {
   "cell_type": "markdown",
   "id": "993b50a4-280f-4a60-b22d-f32369d152a6",
   "metadata": {},
   "source": [
    "## Create AE and CNT (Android)"
   ]
  },
  {
   "cell_type": "code",
   "execution_count": 11,
   "id": "ff960a0e-565e-4426-9fed-40a2fcc6813b",
   "metadata": {},
   "outputs": [],
   "source": [
    "# for i in range(607, 608):\n",
    "#     aeName = 'S' + str(i)\n",
    "#     createAE(aeName)\n",
    "#     createCNTW(aeName)\n",
    "#     createCNTM(aeName)"
   ]
  },
  {
   "cell_type": "markdown",
   "id": "3bb682b2-a362-4f5c-b752-1f0b65c0e060",
   "metadata": {},
   "source": [
    "## Create AE and CNT (iOS)"
   ]
  },
  {
   "cell_type": "code",
   "execution_count": null,
   "id": "3cc9d9ac-f0ad-4d00-9333-f4950ea66cbc",
   "metadata": {},
   "outputs": [],
   "source": [
    "# for i in range(998, 999):\n",
    "#     aeName = 'S' + str(i)\n",
    "#     createAE(aeName)\n",
    "#     createCNTMI(aeName)\n",
    "#     createCNTH(aeName)"
   ]
  },
  {
   "cell_type": "markdown",
   "id": "33b78dde-ce7b-4997-a06a-3a74ac0c365b",
   "metadata": {},
   "source": [
    "## Delete AE (Android)"
   ]
  },
  {
   "cell_type": "code",
   "execution_count": 8,
   "id": "98e4d5e4-0527-48a3-9c30-218d7f8c12fd",
   "metadata": {},
   "outputs": [],
   "source": [
    "# for i in range(997, 1000):\n",
    "#     aeName = 'S' + str(i)\n",
    "#     deleteCNTM(aeName)\n",
    "#     deleteCNTW(aeName)\n",
    "#     deleteAE(aeName)"
   ]
  },
  {
   "cell_type": "markdown",
   "id": "41745b15-b16b-4ea6-bcfd-e1b2bd3ad77e",
   "metadata": {},
   "source": [
    "## Delete AE (iOS)"
   ]
  },
  {
   "cell_type": "code",
   "execution_count": 7,
   "id": "e34068d7-192b-41d4-a739-b9d55dec1ce5",
   "metadata": {},
   "outputs": [],
   "source": [
    "# for i in range(997, 1000):\n",
    "#     aeName = 'S' + str(i)\n",
    "#     deleteCNTMI(aeName)\n",
    "#     deleteCNTMH(aeName)\n",
    "#     deleteAE(aeName)"
   ]
  },
  {
   "cell_type": "markdown",
   "id": "0a76295a-6611-4268-a6ba-1f8d066633d5",
   "metadata": {},
   "source": [
    "## Reset AE (Android)"
   ]
  },
  {
   "cell_type": "code",
   "execution_count": 14,
   "id": "db1ac7ea-3a75-411a-8b3a-e5b777fdf4f4",
   "metadata": {},
   "outputs": [
    {
     "name": "stdout",
     "output_type": "stream",
     "text": [
      " 501\n"
     ]
    }
   ],
   "source": [
    "aeName = 'S' + str(input())\n",
    "\n",
    "deleteCNTM(aeName)\n",
    "deleteCNTW(aeName)\n",
    "createCNTW(aeName)\n",
    "createCNTM(aeName)"
   ]
  },
  {
   "cell_type": "markdown",
   "id": "a59ea354-1a2e-4ef4-ac1a-98dcbc850c2c",
   "metadata": {},
   "source": [
    "## Reset AE (iOS)"
   ]
  },
  {
   "cell_type": "code",
   "execution_count": null,
   "id": "fd98baf9-28ef-465d-bf04-6f5e1ec2925c",
   "metadata": {},
   "outputs": [],
   "source": [
    "# aeName = 'S' + str(input())\n",
    "\n",
    "# deleteCNTMI(aeName)\n",
    "# deleteCNTH(aeName)\n",
    "# createCNTH(aeName)\n",
    "# createCNTMI(aeName)"
   ]
  },
  {
   "cell_type": "code",
   "execution_count": 10,
   "id": "f2390f66-de8f-42b2-9f16-8422bee53165",
   "metadata": {},
   "outputs": [],
   "source": [
    "# for i in range(0, 1000):\n",
    "#     ae = str(i)\n",
    "    \n",
    "#     if len(ae) == 1:\n",
    "#         ae = '00' + ae\n",
    "#     elif len(ae) == 2:\n",
    "#         ae = '0' + ae\n",
    "    \n",
    "#     aeName = 'S' + ae\n",
    "#     if aeName == 'S100' or aeName == 'S400' or aeName == 'S700' or aeName == 'S900':\n",
    "#         print(aeName)\n",
    "\n",
    "#     createAE(aeName)\n",
    "#     createCNTW(aeName)\n",
    "#     createCNTM(aeName)"
   ]
  },
  {
   "cell_type": "markdown",
   "id": "e5b672f8-8347-4708-b42c-92284572b13b",
   "metadata": {},
   "source": [
    "## Create new Health"
   ]
  },
  {
   "cell_type": "code",
   "execution_count": 5,
   "id": "1bb7356a-0d7d-4c37-a6be-da1bfb9d8e99",
   "metadata": {},
   "outputs": [
    {
     "name": "stdout",
     "output_type": "stream",
     "text": [
      "S700\n",
      "S800\n",
      "S900\n"
     ]
    }
   ],
   "source": [
    "for i in range(700, 1000):\n",
    "    ae = str(i)\n",
    "    \n",
    "    if len(ae) == 1:\n",
    "        ae = '00' + ae\n",
    "    elif len(ae) == 2:\n",
    "        ae = '0' + ae\n",
    "    \n",
    "    aeName = 'S' + ae\n",
    "    \n",
    "    if aeName == 'S700' or aeName == 'S800' or aeName == 'S900':\n",
    "        print(aeName)\n",
    "\n",
    "    createCNTH2(aeName)\n",
    "    "
   ]
  },
  {
   "cell_type": "code",
   "execution_count": null,
   "id": "4cd7af08-891c-427e-ba2d-4d059ab8345d",
   "metadata": {},
   "outputs": [],
   "source": []
  },
  {
   "cell_type": "code",
   "execution_count": null,
   "id": "d6d4a606-fc9a-4387-8c0a-13680a9c7d94",
   "metadata": {},
   "outputs": [],
   "source": []
  }
 ],
 "metadata": {
  "kernelspec": {
   "display_name": "Python 3 (ipykernel)",
   "language": "python",
   "name": "python3"
  },
  "language_info": {
   "codemirror_mode": {
    "name": "ipython",
    "version": 3
   },
   "file_extension": ".py",
   "mimetype": "text/x-python",
   "name": "python",
   "nbconvert_exporter": "python",
   "pygments_lexer": "ipython3",
   "version": "3.9.12"
  }
 },
 "nbformat": 4,
 "nbformat_minor": 5
}
