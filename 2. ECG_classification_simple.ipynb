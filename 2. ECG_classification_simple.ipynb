{
  "cells": [
    {
      "cell_type": "code",
      "execution_count": 1,
      "metadata": {
        "colab": {
          "base_uri": "https://localhost:8080/"
        },
        "id": "WFdFgrE1AG0n",
        "outputId": "a7ea0ba5-bffe-4229-f911-dd9674a793e3"
      },
      "outputs": [
        {
          "name": "stdout",
          "output_type": "stream",
          "text": [
            "Mounted at /content/drive\n"
          ]
        }
      ],
      "source": [
        "from google.colab import drive\n",
        "drive.mount('/content/drive')"
      ]
    },
    {
      "cell_type": "code",
      "execution_count": 2,
      "metadata": {
        "id": "4yDd68C3ASL7"
      },
      "outputs": [],
      "source": [
        "data_path = '/content/drive/My Drive/mit-bih-arrhythmia-database-1.0.0/'"
      ]
    },
    {
      "cell_type": "code",
      "execution_count": 3,
      "metadata": {
        "colab": {
          "base_uri": "https://localhost:8080/"
        },
        "id": "By7PM3Y_A19y",
        "outputId": "2e33c2cb-79ff-4922-bf63-cb77a6284e22"
      },
      "outputs": [
        {
          "name": "stdout",
          "output_type": "stream",
          "text": [
            "100.atr    106.dat  113.hea  119.hea  202.atr  209.xws\t217.xws  230.atr\n",
            "100.dat    106.hea  113.xws  119.xws  202.dat  210.atr\t219.atr  230.dat\n",
            "100.hea    106.xws  114.atr  121.atr  202.hea  210.dat\t219.dat  230.hea\n",
            "100.xws    107.atr  114.dat  121.dat  202.xws  210.hea\t219.hea  230.xws\n",
            "101.atr    107.dat  114.hea  121.hea  203.at_  210.xws\t219.xws  231.atr\n",
            "101.dat    107.hea  114.xws  121.xws  203.at-  212.atr\t220.atr  231.dat\n",
            "101.hea    107.xws  115.atr  122.atr  203.atr  212.dat\t220.dat  231.hea\n",
            "101.xws    108.at_  115.dat  122.dat  203.dat  212.hea\t220.hea  231.xws\n",
            "102-0.atr  108.atr  115.hea  122.hea  203.hea  212.xws\t220.xws  232.atr\n",
            "102.atr    108.dat  115.xws  122.xws  203.xws  213.atr\t221.atr  232.dat\n",
            "102.dat    108.hea  116.atr  123.atr  205.atr  213.dat\t221.dat  232.hea\n",
            "102.hea    108.xws  116.dat  123.dat  205.dat  213.hea\t221.hea  232.xws\n",
            "102.xws    109.atr  116.hea  123.hea  205.hea  213.xws\t221.xws  233.atr\n",
            "103.atr    109.dat  116.xws  123.xws  205.xws  214.at_\t222.at_  233.dat\n",
            "103.dat    109.hea  117.at_  124.atr  207.atr  214.atr\t222.atr  233.hea\n",
            "103.hea    109.xws  117.atr  124.dat  207.dat  214.dat\t222.dat  233.xws\n",
            "103.xws    111.atr  117.dat  124.hea  207.hea  214.hea\t222.hea  234.atr\n",
            "104.atr    111.dat  117.hea  124.xws  207.xws  214.xws\t222.xws  234.dat\n",
            "104.dat    111.hea  117.xws  200.atr  208.atr  215.at_\t223.atr  234.hea\n",
            "104.hea    111.xws  118.atr  200.dat  208.dat  215.atr\t223.dat  234.xws\n",
            "104.xws    112.atr  118.dat  200.hea  208.hea  215.dat\t223.hea  ANNOTATORS\n",
            "105.atr    112.dat  118.hea  200.xws  208.xws  215.hea\t223.xws  mitdbdir\n",
            "105.dat    112.hea  118.xws  201.atr  209.at_  215.xws\t228.atr  RECORDS\n",
            "105.hea    112.xws  119.at_  201.dat  209.atr  217.atr\t228.dat  SHA256SUMS.txt\n",
            "105.xws    113.atr  119.atr  201.hea  209.dat  217.dat\t228.hea  x_mitdb\n",
            "106.atr    113.dat  119.dat  201.xws  209.hea  217.hea\t228.xws\n"
          ]
        }
      ],
      "source": [
        "!ls '/content/drive/My Drive/mit-bih-arrhythmia-database-1.0.0/'"
      ]
    },
    {
      "cell_type": "code",
      "execution_count": 4,
      "metadata": {
        "id": "KicliXwOA2AC"
      },
      "outputs": [],
      "source": [
        "pts = ['100', '101', '102', '103', '104', '105', '106', '107',\n",
        "       '108', '109', '111', '112', '113', '114', '115', '116',\n",
        "       '117', '118', '119', '121', '122', '123', '124', '200',\n",
        "       '201', '202', '203', '205', '207', '208', '209', '210',\n",
        "       '212', '213', '214', '215', '217', '219', '220', '221',\n",
        "       '222', '223', '228', '230', '231', '232', '233', '234']"
      ]
    },
    {
      "cell_type": "code",
      "execution_count": 5,
      "metadata": {
        "colab": {
          "base_uri": "https://localhost:8080/"
        },
        "id": "eazFRx-pA2DT",
        "outputId": "8409597b-84fd-46c5-dac7-7f6f25319013"
      },
      "outputs": [
        {
          "data": {
            "text/plain": [
              "48"
            ]
          },
          "execution_count": 5,
          "metadata": {},
          "output_type": "execute_result"
        }
      ],
      "source": [
        "len(pts)"
      ]
    },
    {
      "cell_type": "code",
      "execution_count": 6,
      "metadata": {
        "colab": {
          "base_uri": "https://localhost:8080/"
        },
        "id": "iflI7oixA2Ff",
        "outputId": "0c44bef5-b647-447e-f3f9-1abcf778dfa7"
      },
      "outputs": [
        {
          "name": "stdout",
          "output_type": "stream",
          "text": [
            "Looking in indexes: https://pypi.org/simple, https://us-python.pkg.dev/colab-wheels/public/simple/\n",
            "Collecting wfdb\n",
            "  Downloading wfdb-4.1.0-py3-none-any.whl (159 kB)\n",
            "\u001b[K     |████████████████████████████████| 159 kB 7.1 MB/s \n",
            "\u001b[?25hRequirement already satisfied: pandas<2.0.0,>=1.0.0 in /usr/local/lib/python3.8/dist-packages (from wfdb) (1.3.5)\n",
            "Requirement already satisfied: scipy<2.0.0,>=1.0.0 in /usr/local/lib/python3.8/dist-packages (from wfdb) (1.7.3)\n",
            "Requirement already satisfied: numpy<2.0.0,>=1.10.1 in /usr/local/lib/python3.8/dist-packages (from wfdb) (1.21.6)\n",
            "Requirement already satisfied: SoundFile<0.12.0,>=0.10.0 in /usr/local/lib/python3.8/dist-packages (from wfdb) (0.11.0)\n",
            "Requirement already satisfied: requests<3.0.0,>=2.8.1 in /usr/local/lib/python3.8/dist-packages (from wfdb) (2.23.0)\n",
            "Requirement already satisfied: matplotlib<4.0.0,>=3.2.2 in /usr/local/lib/python3.8/dist-packages (from wfdb) (3.2.2)\n",
            "Requirement already satisfied: pyparsing!=2.0.4,!=2.1.2,!=2.1.6,>=2.0.1 in /usr/local/lib/python3.8/dist-packages (from matplotlib<4.0.0,>=3.2.2->wfdb) (3.0.9)\n",
            "Requirement already satisfied: kiwisolver>=1.0.1 in /usr/local/lib/python3.8/dist-packages (from matplotlib<4.0.0,>=3.2.2->wfdb) (1.4.4)\n",
            "Requirement already satisfied: cycler>=0.10 in /usr/local/lib/python3.8/dist-packages (from matplotlib<4.0.0,>=3.2.2->wfdb) (0.11.0)\n",
            "Requirement already satisfied: python-dateutil>=2.1 in /usr/local/lib/python3.8/dist-packages (from matplotlib<4.0.0,>=3.2.2->wfdb) (2.8.2)\n",
            "Requirement already satisfied: pytz>=2017.3 in /usr/local/lib/python3.8/dist-packages (from pandas<2.0.0,>=1.0.0->wfdb) (2022.6)\n",
            "Requirement already satisfied: six>=1.5 in /usr/local/lib/python3.8/dist-packages (from python-dateutil>=2.1->matplotlib<4.0.0,>=3.2.2->wfdb) (1.15.0)\n",
            "Requirement already satisfied: certifi>=2017.4.17 in /usr/local/lib/python3.8/dist-packages (from requests<3.0.0,>=2.8.1->wfdb) (2022.9.24)\n",
            "Requirement already satisfied: chardet<4,>=3.0.2 in /usr/local/lib/python3.8/dist-packages (from requests<3.0.0,>=2.8.1->wfdb) (3.0.4)\n",
            "Requirement already satisfied: idna<3,>=2.5 in /usr/local/lib/python3.8/dist-packages (from requests<3.0.0,>=2.8.1->wfdb) (2.10)\n",
            "Requirement already satisfied: urllib3!=1.25.0,!=1.25.1,<1.26,>=1.21.1 in /usr/local/lib/python3.8/dist-packages (from requests<3.0.0,>=2.8.1->wfdb) (1.24.3)\n",
            "Requirement already satisfied: cffi>=1.0 in /usr/local/lib/python3.8/dist-packages (from SoundFile<0.12.0,>=0.10.0->wfdb) (1.15.1)\n",
            "Requirement already satisfied: pycparser in /usr/local/lib/python3.8/dist-packages (from cffi>=1.0->SoundFile<0.12.0,>=0.10.0->wfdb) (2.21)\n",
            "Installing collected packages: wfdb\n",
            "Successfully installed wfdb-4.1.0\n"
          ]
        }
      ],
      "source": [
        "!pip install wfdb"
      ]
    },
    {
      "cell_type": "code",
      "execution_count": 7,
      "metadata": {
        "id": "Z9KP8gMzE9gS"
      },
      "outputs": [],
      "source": [
        "import wfdb"
      ]
    },
    {
      "cell_type": "code",
      "execution_count": 8,
      "metadata": {
        "colab": {
          "base_uri": "https://localhost:8080/"
        },
        "id": "FQgUXDJoA2Hw",
        "outputId": "06122bb1-3ac5-43e5-a278-bd662f50ae69"
      },
      "outputs": [
        {
          "name": "stdout",
          "output_type": "stream",
          "text": [
            "(650000, 2)\n",
            "360\n"
          ]
        }
      ],
      "source": [
        "pt = '100'\n",
        "file = data_path + pt\n",
        "\n",
        "record = wfdb.rdrecord(file)\n",
        "print(record.p_signal.shape)\n",
        "print(record.fs)"
      ]
    },
    {
      "cell_type": "code",
      "execution_count": 9,
      "metadata": {
        "colab": {
          "base_uri": "https://localhost:8080/"
        },
        "id": "Ui3_GCvSA2Js",
        "outputId": "abe3d266-1b4e-476c-9c91-43377cd1d5a9"
      },
      "outputs": [
        {
          "name": "stdout",
          "output_type": "stream",
          "text": [
            "['+', 'N', 'N', 'N', 'N', 'N', 'N', 'N', 'A', 'N', 'N', 'N', 'N', 'N', 'N', 'N', 'N', 'N', 'N', 'N', 'N', 'N', 'N', 'N', 'N', 'N', 'N', 'N', 'N', 'N', 'N', 'N', 'N', 'N', 'N', 'N', 'N', 'N', 'N', 'N', 'N', 'N', 'N', 'N', 'N', 'N', 'N', 'N', 'N', 'N', 'N', 'N', 'N', 'N', 'N', 'N', 'N', 'N', 'N', 'N', 'N', 'N', 'N', 'N', 'N', 'N', 'N', 'N', 'N', 'N', 'N', 'N', 'N', 'N', 'N', 'N', 'N', 'N', 'N', 'N', 'N', 'N', 'N', 'N', 'N', 'N', 'N', 'N', 'N', 'N', 'N', 'N', 'N', 'N', 'N', 'N', 'N', 'N', 'N', 'N', 'N', 'N', 'N', 'N', 'N', 'N', 'N', 'N', 'N', 'N', 'N', 'N', 'N', 'N', 'N', 'N', 'N', 'N', 'N', 'N', 'N', 'N', 'N', 'N', 'N', 'N', 'N', 'N', 'N', 'N', 'N', 'N', 'N', 'N', 'N', 'N', 'N', 'N', 'N', 'N', 'N', 'N', 'N', 'N', 'N', 'N', 'N', 'N', 'N', 'N', 'N', 'N', 'N', 'N', 'N', 'N', 'N', 'N', 'N', 'N', 'N', 'N', 'N', 'N', 'N', 'N', 'N', 'N', 'N', 'N', 'N', 'N', 'N', 'N', 'N', 'N', 'N', 'N', 'N', 'N', 'N', 'N', 'N', 'N', 'N', 'N', 'N', 'N', 'N', 'N', 'N', 'N', 'N', 'N', 'N', 'N', 'N', 'N', 'N', 'N', 'N', 'N', 'N', 'N', 'N', 'N', 'N', 'N', 'N', 'N', 'N', 'N', 'N', 'N', 'N', 'N', 'N', 'N', 'N', 'N', 'N', 'N', 'N', 'N', 'N', 'N', 'N', 'N', 'N', 'N', 'N', 'A', 'N', 'N', 'N', 'N', 'N', 'N', 'N', 'N', 'N', 'N', 'N', 'N', 'N', 'N', 'N', 'N', 'N', 'N', 'N', 'N', 'N', 'N', 'N', 'N', 'N', 'N', 'N', 'A', 'N', 'N', 'N', 'N', 'N', 'N', 'N', 'N', 'N', 'N', 'N', 'N', 'N', 'N', 'N', 'N', 'N', 'N', 'N', 'N', 'N', 'N', 'N', 'N', 'N', 'N', 'N', 'N', 'N', 'N', 'N', 'N', 'N', 'N', 'N', 'N', 'N', 'N', 'N', 'N', 'N', 'N', 'N', 'N', 'N', 'N', 'N', 'N', 'N', 'N', 'N', 'N', 'N', 'N', 'N', 'N', 'N', 'N', 'N', 'N', 'N', 'N', 'N', 'N', 'N', 'N', 'N', 'N', 'N', 'N', 'N', 'N', 'N', 'N', 'N', 'N', 'N', 'N', 'N', 'N', 'N', 'N', 'N', 'A', 'N', 'N', 'N', 'N', 'N', 'N', 'N', 'N', 'N', 'N', 'N', 'N', 'N', 'N', 'N', 'N', 'N', 'N', 'N', 'N', 'N', 'N', 'N', 'N', 'N', 'N', 'N', 'N', 'N', 'N', 'N', 'N', 'N', 'N', 'N', 'N', 'N', 'N', 'N', 'N', 'N', 'N', 'N', 'N', 'N', 'N', 'N', 'N', 'N', 'N', 'N', 'N', 'N', 'N', 'N', 'N', 'N', 'N', 'N', 'N', 'N', 'N', 'N', 'N', 'N', 'N', 'N', 'N', 'N', 'N', 'N', 'N', 'N', 'N', 'N', 'N', 'N', 'N', 'N', 'N', 'N', 'N', 'N', 'N', 'N', 'N', 'N', 'N', 'N', 'N', 'N', 'N', 'N', 'N', 'N', 'N', 'N', 'N', 'A', 'N', 'N', 'N', 'N', 'N', 'N', 'N', 'N', 'N', 'N', 'N', 'N', 'N', 'N', 'N', 'N', 'N', 'N', 'N', 'N', 'N', 'N', 'N', 'N', 'N', 'N', 'N', 'N', 'N', 'N', 'N', 'N', 'N', 'N', 'N', 'N', 'N', 'N', 'N', 'N', 'N', 'N', 'N', 'N', 'N', 'N', 'N', 'N', 'N', 'N', 'N', 'N', 'N', 'N', 'N', 'N', 'N', 'N', 'N', 'N', 'N', 'N', 'N', 'N', 'N', 'N', 'N', 'N', 'N', 'N', 'N', 'N', 'N', 'N', 'N', 'N', 'N', 'N', 'N', 'N', 'N', 'N', 'N', 'N', 'N', 'N', 'N', 'N', 'N', 'N', 'N', 'N', 'N', 'N', 'N', 'N', 'N', 'N', 'N', 'N', 'N', 'N', 'N', 'N', 'N', 'N', 'N', 'N', 'N', 'N', 'N', 'N', 'N', 'N', 'N', 'N', 'N', 'N', 'N', 'N', 'N', 'N', 'N', 'N', 'N', 'N', 'N', 'N', 'N', 'N', 'N', 'N', 'N', 'N', 'N', 'N', 'N', 'N', 'N', 'N', 'N', 'N', 'N', 'N', 'N', 'N', 'N', 'N', 'N', 'N', 'N', 'N', 'N', 'N', 'N', 'N', 'N', 'A', 'N', 'N', 'N', 'N', 'N', 'N', 'N', 'N', 'N', 'N', 'N', 'N', 'N', 'N', 'N', 'N', 'N', 'N', 'N', 'N', 'N', 'N', 'N', 'N', 'N', 'N', 'N', 'N', 'N', 'N', 'N', 'N', 'N', 'N', 'N', 'N', 'N', 'N', 'N', 'N', 'N', 'N', 'N', 'N', 'N', 'N', 'N', 'N', 'N', 'N', 'N', 'N', 'N', 'N', 'N', 'N', 'N', 'N', 'N', 'N', 'N', 'N', 'N', 'N', 'N', 'N', 'N', 'N', 'N', 'N', 'N', 'N', 'N', 'N', 'N', 'N', 'N', 'N', 'N', 'N', 'N', 'N', 'N', 'N', 'N', 'N', 'N', 'N', 'N', 'N', 'N', 'N', 'N', 'N', 'N', 'N', 'N', 'N', 'N', 'N', 'N', 'N', 'N', 'N', 'N', 'N', 'N', 'N', 'N', 'N', 'N', 'N', 'N', 'N', 'N', 'N', 'N', 'N', 'N', 'N', 'N', 'N', 'N', 'N', 'N', 'N', 'N', 'N', 'N', 'N', 'N', 'N', 'N', 'N', 'N', 'N', 'N', 'N', 'N', 'N', 'N', 'N', 'N', 'N', 'N', 'N', 'N', 'N', 'N', 'N', 'N', 'N', 'N', 'N', 'N', 'N', 'N', 'N', 'N', 'N', 'N', 'N', 'N', 'N', 'N', 'N', 'N', 'N', 'N', 'N', 'N', 'N', 'N', 'N', 'N', 'N', 'N', 'N', 'N', 'N', 'N', 'N', 'N', 'N', 'N', 'N', 'N', 'N', 'N', 'N', 'N', 'N', 'N', 'N', 'N', 'N', 'N', 'N', 'N', 'N', 'N', 'N', 'N', 'N', 'N', 'N', 'N', 'N', 'N', 'N', 'N', 'N', 'N', 'N', 'N', 'N', 'N', 'N', 'N', 'N', 'N', 'N', 'N', 'N', 'N', 'N', 'N', 'N', 'N', 'N', 'N', 'N', 'N', 'N', 'N', 'N', 'N', 'N', 'N', 'N', 'N', 'N', 'N', 'N', 'N', 'N', 'N', 'N', 'N', 'N', 'N', 'N', 'N', 'N', 'N', 'N', 'N', 'N', 'N', 'N', 'N', 'N', 'N', 'N', 'N', 'N', 'N', 'N', 'N', 'N', 'N', 'N', 'N', 'N', 'N', 'N', 'N', 'N', 'N', 'N', 'N', 'N', 'N', 'N', 'N', 'N', 'N', 'N', 'N', 'N', 'N', 'N', 'N', 'N', 'N', 'N', 'N', 'N', 'N', 'N', 'N', 'N', 'N', 'N', 'N', 'N', 'N', 'N', 'N', 'N', 'N', 'N', 'N', 'N', 'N', 'N', 'N', 'N', 'N', 'N', 'N', 'N', 'N', 'N', 'N', 'N', 'N', 'N', 'N', 'N', 'N', 'N', 'N', 'N', 'N', 'N', 'N', 'N', 'N', 'N', 'N', 'N', 'N', 'N', 'N', 'N', 'N', 'N', 'N', 'N', 'N', 'N', 'N', 'N', 'N', 'N', 'N', 'N', 'N', 'N', 'N', 'N', 'N', 'N', 'N', 'N', 'N', 'N', 'N', 'N', 'N', 'N', 'N', 'N', 'N', 'N', 'N', 'N', 'N', 'N', 'N', 'N', 'N', 'N', 'N', 'N', 'N', 'A', 'N', 'N', 'N', 'N', 'N', 'N', 'N', 'N', 'N', 'N', 'N', 'N', 'N', 'N', 'N', 'N', 'N', 'N', 'N', 'N', 'N', 'N', 'N', 'N', 'N', 'N', 'N', 'N', 'N', 'N', 'N', 'N', 'N', 'N', 'N', 'N', 'N', 'N', 'N', 'N', 'N', 'N', 'N', 'N', 'N', 'N', 'N', 'N', 'N', 'N', 'N', 'N', 'N', 'N', 'N', 'N', 'N', 'N', 'N', 'N', 'N', 'N', 'N', 'N', 'N', 'N', 'N', 'N', 'N', 'N', 'N', 'N', 'N', 'N', 'N', 'N', 'N', 'N', 'N', 'N', 'N', 'N', 'N', 'N', 'N', 'N', 'N', 'N', 'N', 'N', 'A', 'N', 'N', 'N', 'N', 'N', 'N', 'A', 'N', 'N', 'N', 'N', 'N', 'N', 'N', 'N', 'N', 'N', 'N', 'N', 'N', 'N', 'N', 'N', 'N', 'A', 'N', 'N', 'N', 'N', 'N', 'N', 'N', 'N', 'N', 'N', 'N', 'N', 'N', 'N', 'N', 'N', 'A', 'N', 'N', 'N', 'N', 'A', 'N', 'N', 'N', 'N', 'N', 'N', 'N', 'N', 'N', 'N', 'N', 'N', 'N', 'N', 'N', 'N', 'N', 'N', 'N', 'N', 'N', 'N', 'N', 'N', 'N', 'N', 'N', 'N', 'N', 'N', 'N', 'N', 'N', 'N', 'N', 'N', 'N', 'N', 'N', 'N', 'N', 'N', 'N', 'N', 'N', 'N', 'N', 'N', 'N', 'N', 'N', 'N', 'N', 'N', 'N', 'N', 'N', 'N', 'N', 'N', 'N', 'N', 'N', 'N', 'N', 'N', 'N', 'N', 'N', 'N', 'N', 'N', 'N', 'N', 'N', 'N', 'N', 'N', 'N', 'N', 'N', 'N', 'N', 'N', 'N', 'N', 'N', 'N', 'N', 'N', 'N', 'N', 'N', 'A', 'N', 'N', 'N', 'N', 'N', 'N', 'N', 'N', 'N', 'N', 'N', 'N', 'N', 'N', 'N', 'A', 'N', 'N', 'N', 'N', 'N', 'N', 'N', 'N', 'N', 'N', 'N', 'N', 'N', 'N', 'N', 'N', 'N', 'N', 'N', 'N', 'N', 'N', 'N', 'N', 'N', 'N', 'N', 'N', 'N', 'N', 'N', 'N', 'N', 'N', 'N', 'N', 'N', 'N', 'N', 'N', 'N', 'N', 'N', 'N', 'N', 'N', 'N', 'N', 'N', 'N', 'N', 'N', 'N', 'N', 'N', 'N', 'N', 'N', 'N', 'N', 'N', 'N', 'N', 'N', 'N', 'N', 'N', 'N', 'N', 'N', 'N', 'N', 'N', 'N', 'N', 'N', 'N', 'N', 'N', 'N', 'N', 'N', 'N', 'N', 'N', 'N', 'N', 'N', 'A', 'N', 'N', 'N', 'N', 'N', 'N', 'N', 'N', 'N', 'N', 'N', 'N', 'N', 'N', 'N', 'N', 'N', 'N', 'N', 'N', 'N', 'N', 'N', 'N', 'N', 'N', 'N', 'N', 'N', 'N', 'N', 'N', 'N', 'N', 'N', 'N', 'N', 'N', 'N', 'N', 'N', 'N', 'N', 'N', 'N', 'N', 'N', 'N', 'N', 'N', 'N', 'N', 'N', 'N', 'N', 'N', 'N', 'N', 'N', 'N', 'N', 'N', 'N', 'N', 'N', 'N', 'N', 'N', 'N', 'A', 'N', 'N', 'N', 'N', 'N', 'N', 'N', 'N', 'N', 'N', 'N', 'N', 'N', 'N', 'N', 'N', 'N', 'N', 'N', 'N', 'N', 'N', 'N', 'N', 'N', 'N', 'N', 'N', 'N', 'N', 'N', 'N', 'N', 'N', 'N', 'N', 'N', 'N', 'N', 'N', 'N', 'N', 'N', 'N', 'N', 'N', 'N', 'N', 'N', 'N', 'N', 'N', 'N', 'N', 'N', 'N', 'N', 'N', 'N', 'N', 'N', 'N', 'N', 'N', 'N', 'N', 'N', 'N', 'N', 'N', 'N', 'N', 'N', 'N', 'N', 'N', 'N', 'N', 'N', 'N', 'N', 'N', 'N', 'N', 'A', 'N', 'N', 'A', 'N', 'N', 'N', 'N', 'N', 'N', 'N', 'N', 'N', 'N', 'N', 'N', 'N', 'N', 'N', 'N', 'N', 'N', 'N', 'N', 'N', 'N', 'N', 'N', 'N', 'N', 'N', 'N', 'N', 'N', 'N', 'N', 'N', 'N', 'N', 'N', 'N', 'A', 'N', 'N', 'N', 'N', 'N', 'N', 'N', 'A', 'N', 'N', 'N', 'N', 'N', 'N', 'N', 'N', 'N', 'N', 'N', 'N', 'N', 'N', 'N', 'N', 'N', 'N', 'N', 'N', 'N', 'A', 'N', 'N', 'N', 'N', 'N', 'N', 'A', 'N', 'N', 'N', 'N', 'N', 'N', 'N', 'N', 'N', 'N', 'N', 'N', 'N', 'N', 'N', 'N', 'N', 'N', 'N', 'N', 'N', 'N', 'N', 'N', 'N', 'N', 'N', 'N', 'N', 'N', 'N', 'N', 'N', 'A', 'N', 'N', 'N', 'N', 'N', 'N', 'N', 'N', 'N', 'N', 'N', 'A', 'N', 'N', 'N', 'N', 'N', 'N', 'N', 'N', 'N', 'N', 'N', 'N', 'N', 'N', 'N', 'N', 'N', 'N', 'N', 'N', 'N', 'N', 'N', 'N', 'N', 'N', 'N', 'N', 'N', 'N', 'N', 'N', 'N', 'N', 'N', 'N', 'N', 'N', 'N', 'N', 'N', 'N', 'N', 'N', 'N', 'N', 'N', 'N', 'N', 'N', 'N', 'N', 'N', 'N', 'N', 'N', 'N', 'N', 'N', 'N', 'N', 'N', 'N', 'N', 'N', 'N', 'N', 'N', 'N', 'N', 'N', 'N', 'N', 'N', 'N', 'N', 'N', 'N', 'N', 'N', 'N', 'N', 'N', 'N', 'N', 'N', 'N', 'N', 'N', 'N', 'N', 'N', 'N', 'N', 'N', 'N', 'N', 'N', 'N', 'N', 'N', 'N', 'N', 'N', 'N', 'N', 'N', 'N', 'N', 'N', 'N', 'N', 'N', 'N', 'N', 'N', 'N', 'N', 'N', 'N', 'N', 'N', 'N', 'N', 'N', 'N', 'N', 'N', 'N', 'N', 'N', 'A', 'N', 'N', 'N', 'N', 'N', 'N', 'N', 'N', 'N', 'N', 'N', 'N', 'N', 'N', 'N', 'N', 'N', 'N', 'N', 'N', 'N', 'N', 'N', 'N', 'N', 'N', 'N', 'N', 'N', 'N', 'N', 'N', 'N', 'N', 'N', 'N', 'N', 'N', 'N', 'N', 'N', 'N', 'N', 'N', 'N', 'N', 'N', 'N', 'N', 'N', 'N', 'N', 'N', 'N', 'N', 'N', 'N', 'N', 'N', 'N', 'N', 'N', 'N', 'N', 'N', 'N', 'N', 'N', 'N', 'N', 'N', 'N', 'N', 'N', 'N', 'N', 'N', 'N', 'N', 'N', 'N', 'N', 'A', 'N', 'N', 'N', 'N', 'N', 'N', 'N', 'N', 'N', 'N', 'N', 'N', 'N', 'N', 'N', 'N', 'N', 'N', 'N', 'N', 'N', 'N', 'N', 'N', 'N', 'N', 'N', 'N', 'N', 'N', 'N', 'N', 'N', 'N', 'N', 'N', 'N', 'N', 'N', 'N', 'N', 'N', 'N', 'N', 'N', 'N', 'N', 'N', 'N', 'N', 'N', 'N', 'N', 'N', 'N', 'N', 'N', 'N', 'N', 'N', 'N', 'N', 'N', 'N', 'N', 'N', 'N', 'N', 'N', 'N', 'N', 'N', 'N', 'N', 'N', 'N', 'N', 'N', 'N', 'N', 'N', 'N', 'N', 'N', 'N', 'N', 'N', 'V', 'N', 'N', 'N', 'N', 'N', 'N', 'N', 'N', 'N', 'N', 'N', 'N', 'N', 'N', 'N', 'N', 'N', 'N', 'N', 'N', 'N', 'N', 'N', 'N', 'N', 'N', 'N', 'N', 'N', 'N', 'N', 'N', 'N', 'N', 'N', 'N', 'N', 'N', 'N', 'N', 'N', 'N', 'N', 'N', 'N', 'N', 'N', 'N', 'N', 'N', 'N', 'N', 'N', 'N', 'A', 'N', 'N', 'N', 'N', 'N', 'N', 'N', 'N', 'N', 'N', 'N', 'A', 'N', 'N', 'N', 'A', 'N', 'N', 'N', 'N', 'N', 'N', 'N', 'N', 'N', 'N', 'N', 'N', 'N', 'N', 'N', 'N', 'N', 'N', 'N', 'N', 'N', 'N', 'N', 'A', 'N', 'N', 'N', 'N', 'N', 'N', 'N', 'N', 'N', 'N', 'N', 'N', 'N', 'N', 'N', 'N', 'A', 'N', 'N', 'N', 'N', 'N', 'N', 'N', 'N', 'N', 'N', 'N', 'N', 'N', 'N', 'N', 'N', 'N', 'N', 'N', 'N', 'N', 'N', 'N', 'N', 'N', 'N', 'N', 'N', 'N', 'N', 'N', 'N', 'N', 'N', 'N', 'N', 'N', 'N', 'N', 'N', 'N', 'N', 'N', 'N', 'N', 'N', 'N', 'N', 'A', 'N', 'N', 'N', 'N', 'N', 'N', 'N', 'N', 'N', 'N', 'N', 'N', 'N', 'N', 'N', 'N', 'N', 'N', 'N', 'N', 'N', 'N', 'N', 'N', 'N', 'N', 'N', 'N', 'N', 'N', 'N', 'N', 'N', 'N', 'N', 'N', 'N', 'N', 'N', 'N', 'N', 'N', 'N', 'N', 'N', 'N', 'N', 'N', 'N', 'N', 'N', 'N', 'N', 'N', 'N', 'N', 'N', 'N', 'N', 'N', 'N', 'N', 'N', 'N', 'N', 'N', 'N', 'N', 'N', 'N', 'N', 'N', 'N', 'N', 'N', 'N', 'N', 'N', 'N', 'N', 'N', 'N', 'N', 'N', 'N', 'N', 'N', 'N', 'N', 'N', 'N', 'N', 'N', 'N', 'N', 'N', 'N', 'N', 'N', 'N', 'N', 'N', 'N', 'N', 'N', 'N', 'N', 'N', 'N', 'N', 'N', 'N', 'N', 'N', 'N', 'N', 'N', 'N', 'N', 'N', 'N', 'N', 'N', 'N', 'N', 'N', 'N', 'N', 'A', 'N', 'N', 'N', 'N', 'N', 'N', 'N', 'N', 'N', 'N', 'N', 'N', 'N', 'N', 'N', 'N', 'N', 'N', 'N', 'N', 'N', 'N', 'N', 'N', 'N', 'N', 'N', 'N', 'N', 'N', 'N', 'N', 'N', 'N', 'N', 'N', 'N', 'N', 'N', 'N', 'N', 'N', 'N', 'N', 'N', 'N', 'N', 'N', 'N', 'N', 'N', 'N', 'N', 'N', 'N', 'N', 'N', 'N', 'N', 'N', 'N', 'N', 'N', 'N', 'N', 'N', 'N', 'N', 'N', 'N', 'N', 'N', 'N', 'N', 'N', 'N']\n",
            "[    18     77    370 ... 649484 649734 649991]\n"
          ]
        }
      ],
      "source": [
        "annotation = wfdb.rdann(file, 'atr')\n",
        "print(annotation.symbol)\n",
        "print(annotation.sample)"
      ]
    },
    {
      "cell_type": "code",
      "execution_count": 10,
      "metadata": {
        "colab": {
          "base_uri": "https://localhost:8080/"
        },
        "id": "NdhpijiQIVk0",
        "outputId": "83c81c24-50d2-4d27-fc92-d6dc0e3aec29"
      },
      "outputs": [
        {
          "name": "stdout",
          "output_type": "stream",
          "text": [
            "  symbols  count patients\n",
            "0       +      1      100\n",
            "1       A     33      100\n",
            "2       N   2239      100\n",
            "3       V      1      100\n"
          ]
        }
      ],
      "source": [
        "import numpy as np\n",
        "import pandas as pd\n",
        "\n",
        "sym = annotation.symbol\n",
        "unique_symbols, counts = np.unique(sym, return_counts=True)\n",
        "df_sub = pd.DataFrame({'symbols':unique_symbols, 'count': counts,\n",
        "                       'patients':[pt]*len(counts)})\n",
        "\n",
        "print(df_sub)"
      ]
    },
    {
      "cell_type": "code",
      "execution_count": 11,
      "metadata": {
        "colab": {
          "base_uri": "https://localhost:8080/"
        },
        "id": "piA0J1ziIjfj",
        "outputId": "16fea800-58f8-434b-a0a8-4cfb320e1b46"
      },
      "outputs": [
        {
          "name": "stdout",
          "output_type": "stream",
          "text": [
            "   symbols  count patients\n",
            "0        +      1      100\n",
            "1        A     33      100\n",
            "2        N   2239      100\n",
            "3        V      1      100\n",
            "0        +      1      101\n",
            "..     ...    ...      ...\n",
            "0        +      3      234\n",
            "1        J     50      234\n",
            "2        N   2700      234\n",
            "3        V      3      234\n",
            "4        ~      8      234\n",
            "\n",
            "[283 rows x 3 columns]\n"
          ]
        }
      ],
      "source": [
        "df = pd.DataFrame()\n",
        "\n",
        "for pt in pts:\n",
        "  file = data_path + pt\n",
        "  annotation = wfdb.rdann(file, 'atr')\n",
        "  sym = annotation.symbol\n",
        "\n",
        "  unique_symbols, counts = np.unique(sym, return_counts=True)\n",
        "  df_sub = pd.DataFrame({'symbols':unique_symbols, 'count': counts, 'patients':[pt]*len(counts)})\n",
        "\n",
        "  df = pd.concat([df, df_sub], axis=0)\n",
        "\n",
        "print(df)"
      ]
    },
    {
      "cell_type": "code",
      "execution_count": 12,
      "metadata": {
        "colab": {
          "base_uri": "https://localhost:8080/"
        },
        "id": "qU80HFo0IjiD",
        "outputId": "ab460796-56ca-48fd-dbfe-c222ef4d388b"
      },
      "outputs": [
        {
          "name": "stdout",
          "output_type": "stream",
          "text": [
            "         count\n",
            "symbols       \n",
            "!          472\n",
            "\"          437\n",
            "+         1291\n",
            "/         7028\n",
            "A         2546\n",
            "E          106\n",
            "F          803\n",
            "J           83\n",
            "L         8075\n",
            "N        75052\n",
            "Q           33\n",
            "R         7259\n",
            "S            2\n",
            "V         7130\n",
            "[            6\n",
            "]            6\n",
            "a          150\n",
            "e           16\n",
            "f          982\n",
            "j          229\n",
            "x          193\n",
            "|          132\n",
            "~          616\n"
          ]
        }
      ],
      "source": [
        "df_symbols  = df.groupby('symbols').sum()\n",
        "\n",
        "print(df_symbols)"
      ]
    },
    {
      "cell_type": "code",
      "execution_count": 13,
      "metadata": {
        "id": "mjkMdzHyIjkc"
      },
      "outputs": [],
      "source": [
        "abnormal = ['L', 'R', 'B', 'A', 'a', 'J', 'S', 'V', 'r'\n",
        "            'F', 'e', 'j', 'n', 'E']\n",
        "normal = ['N']"
      ]
    },
    {
      "cell_type": "code",
      "execution_count": 14,
      "metadata": {
        "colab": {
          "base_uri": "https://localhost:8080/"
        },
        "id": "kcwmV_gQIjmj",
        "outputId": "3acc563a-5fae-4726-ad5a-16afb4570bb6"
      },
      "outputs": [
        {
          "name": "stdout",
          "output_type": "stream",
          "text": [
            "   symbols  count patients  category\n",
            "0        +      1      100        -1\n",
            "1        A     33      100         1\n",
            "2        N   2239      100         0\n",
            "3        V      1      100         1\n",
            "0        +      1      101        -1\n",
            "..     ...    ...      ...       ...\n",
            "0        +      3      234        -1\n",
            "1        J     50      234         1\n",
            "2        N   2700      234         0\n",
            "3        V      3      234         1\n",
            "4        ~      8      234        -1\n",
            "\n",
            "[283 rows x 4 columns]\n"
          ]
        }
      ],
      "source": [
        "df['category'] = -1\n",
        "df.loc[df.symbols.isin(normal), 'category'] = 0\n",
        "df.loc[df.symbols.isin(abnormal), 'category'] = 1\n",
        "\n",
        "print(df)"
      ]
    },
    {
      "cell_type": "code",
      "execution_count": 15,
      "metadata": {
        "colab": {
          "base_uri": "https://localhost:8080/"
        },
        "id": "p-9x69eLSWdU",
        "outputId": "4a3d2af5-4ecc-4a8d-8ed4-83fb3c2696ce"
      },
      "outputs": [
        {
          "name": "stdout",
          "output_type": "stream",
          "text": [
            "          count\n",
            "category       \n",
            "-1        11999\n",
            " 0        75052\n",
            " 1        25596\n"
          ]
        }
      ],
      "source": [
        "df_category = df.groupby('category').sum()\n",
        "print(df_category)"
      ]
    },
    {
      "cell_type": "code",
      "execution_count": 16,
      "metadata": {
        "id": "HU5y2eyzSWfT"
      },
      "outputs": [],
      "source": [
        "def load_ecg(file):\n",
        "  record = wfdb.rdrecord(file)\n",
        "  annotation = wfdb.rdann(file, 'atr')\n",
        "  p_signal = record.p_signal\n",
        "\n",
        "  assert record.fs == 360, 'sampling freq is not 360'\n",
        "\n",
        "  symbols = annotation.symbol\n",
        "  symbol_samples = annotation.sample\n",
        "\n",
        "  return p_signal, symbols, symbol_samples"
      ]
    },
    {
      "cell_type": "code",
      "execution_count": 17,
      "metadata": {
        "colab": {
          "base_uri": "https://localhost:8080/"
        },
        "id": "Wqv3CYk7SWhW",
        "outputId": "93733be8-7a0c-4bfb-afb1-ca738fd11bee"
      },
      "outputs": [
        {
          "name": "stdout",
          "output_type": "stream",
          "text": [
            "[[-0.145 -0.065]\n",
            " [-0.145 -0.065]\n",
            " [-0.145 -0.065]\n",
            " ...\n",
            " [-0.675 -0.365]\n",
            " [-0.765 -0.335]\n",
            " [-1.28   0.   ]]\n",
            "(650000, 2)\n",
            "['+', 'N', 'N', 'N', 'N', 'N', 'N', 'N', 'A', 'N', 'N', 'N', 'N', 'N', 'N', 'N', 'N', 'N', 'N', 'N', 'N', 'N', 'N', 'N', 'N', 'N', 'N', 'N', 'N', 'N', 'N', 'N', 'N', 'N', 'N', 'N', 'N', 'N', 'N', 'N', 'N', 'N', 'N', 'N', 'N', 'N', 'N', 'N', 'N', 'N', 'N', 'N', 'N', 'N', 'N', 'N', 'N', 'N', 'N', 'N', 'N', 'N', 'N', 'N', 'N', 'N', 'N', 'N', 'N', 'N', 'N', 'N', 'N', 'N', 'N', 'N', 'N', 'N', 'N', 'N', 'N', 'N', 'N', 'N', 'N', 'N', 'N', 'N', 'N', 'N', 'N', 'N', 'N', 'N', 'N', 'N', 'N', 'N', 'N', 'N', 'N', 'N', 'N', 'N', 'N', 'N', 'N', 'N', 'N', 'N', 'N', 'N', 'N', 'N', 'N', 'N', 'N', 'N', 'N', 'N', 'N', 'N', 'N', 'N', 'N', 'N', 'N', 'N', 'N', 'N', 'N', 'N', 'N', 'N', 'N', 'N', 'N', 'N', 'N', 'N', 'N', 'N', 'N', 'N', 'N', 'N', 'N', 'N', 'N', 'N', 'N', 'N', 'N', 'N', 'N', 'N', 'N', 'N', 'N', 'N', 'N', 'N', 'N', 'N', 'N', 'N', 'N', 'N', 'N', 'N', 'N', 'N', 'N', 'N', 'N', 'N', 'N', 'N', 'N', 'N', 'N', 'N', 'N', 'N', 'N', 'N', 'N', 'N', 'N', 'N', 'N', 'N', 'N', 'N', 'N', 'N', 'N', 'N', 'N', 'N', 'N', 'N', 'N', 'N', 'N', 'N', 'N', 'N', 'N', 'N', 'N', 'N', 'N', 'N', 'N', 'N', 'N', 'N', 'N', 'N', 'N', 'N', 'N', 'N', 'N', 'N', 'N', 'N', 'N', 'N', 'N', 'A', 'N', 'N', 'N', 'N', 'N', 'N', 'N', 'N', 'N', 'N', 'N', 'N', 'N', 'N', 'N', 'N', 'N', 'N', 'N', 'N', 'N', 'N', 'N', 'N', 'N', 'N', 'N', 'A', 'N', 'N', 'N', 'N', 'N', 'N', 'N', 'N', 'N', 'N', 'N', 'N', 'N', 'N', 'N', 'N', 'N', 'N', 'N', 'N', 'N', 'N', 'N', 'N', 'N', 'N', 'N', 'N', 'N', 'N', 'N', 'N', 'N', 'N', 'N', 'N', 'N', 'N', 'N', 'N', 'N', 'N', 'N', 'N', 'N', 'N', 'N', 'N', 'N', 'N', 'N', 'N', 'N', 'N', 'N', 'N', 'N', 'N', 'N', 'N', 'N', 'N', 'N', 'N', 'N', 'N', 'N', 'N', 'N', 'N', 'N', 'N', 'N', 'N', 'N', 'N', 'N', 'N', 'N', 'N', 'N', 'N', 'N', 'A', 'N', 'N', 'N', 'N', 'N', 'N', 'N', 'N', 'N', 'N', 'N', 'N', 'N', 'N', 'N', 'N', 'N', 'N', 'N', 'N', 'N', 'N', 'N', 'N', 'N', 'N', 'N', 'N', 'N', 'N', 'N', 'N', 'N', 'N', 'N', 'N', 'N', 'N', 'N', 'N', 'N', 'N', 'N', 'N', 'N', 'N', 'N', 'N', 'N', 'N', 'N', 'N', 'N', 'N', 'N', 'N', 'N', 'N', 'N', 'N', 'N', 'N', 'N', 'N', 'N', 'N', 'N', 'N', 'N', 'N', 'N', 'N', 'N', 'N', 'N', 'N', 'N', 'N', 'N', 'N', 'N', 'N', 'N', 'N', 'N', 'N', 'N', 'N', 'N', 'N', 'N', 'N', 'N', 'N', 'N', 'N', 'N', 'N', 'A', 'N', 'N', 'N', 'N', 'N', 'N', 'N', 'N', 'N', 'N', 'N', 'N', 'N', 'N', 'N', 'N', 'N', 'N', 'N', 'N', 'N', 'N', 'N', 'N', 'N', 'N', 'N', 'N', 'N', 'N', 'N', 'N', 'N', 'N', 'N', 'N', 'N', 'N', 'N', 'N', 'N', 'N', 'N', 'N', 'N', 'N', 'N', 'N', 'N', 'N', 'N', 'N', 'N', 'N', 'N', 'N', 'N', 'N', 'N', 'N', 'N', 'N', 'N', 'N', 'N', 'N', 'N', 'N', 'N', 'N', 'N', 'N', 'N', 'N', 'N', 'N', 'N', 'N', 'N', 'N', 'N', 'N', 'N', 'N', 'N', 'N', 'N', 'N', 'N', 'N', 'N', 'N', 'N', 'N', 'N', 'N', 'N', 'N', 'N', 'N', 'N', 'N', 'N', 'N', 'N', 'N', 'N', 'N', 'N', 'N', 'N', 'N', 'N', 'N', 'N', 'N', 'N', 'N', 'N', 'N', 'N', 'N', 'N', 'N', 'N', 'N', 'N', 'N', 'N', 'N', 'N', 'N', 'N', 'N', 'N', 'N', 'N', 'N', 'N', 'N', 'N', 'N', 'N', 'N', 'N', 'N', 'N', 'N', 'N', 'N', 'N', 'N', 'N', 'N', 'N', 'N', 'N', 'A', 'N', 'N', 'N', 'N', 'N', 'N', 'N', 'N', 'N', 'N', 'N', 'N', 'N', 'N', 'N', 'N', 'N', 'N', 'N', 'N', 'N', 'N', 'N', 'N', 'N', 'N', 'N', 'N', 'N', 'N', 'N', 'N', 'N', 'N', 'N', 'N', 'N', 'N', 'N', 'N', 'N', 'N', 'N', 'N', 'N', 'N', 'N', 'N', 'N', 'N', 'N', 'N', 'N', 'N', 'N', 'N', 'N', 'N', 'N', 'N', 'N', 'N', 'N', 'N', 'N', 'N', 'N', 'N', 'N', 'N', 'N', 'N', 'N', 'N', 'N', 'N', 'N', 'N', 'N', 'N', 'N', 'N', 'N', 'N', 'N', 'N', 'N', 'N', 'N', 'N', 'N', 'N', 'N', 'N', 'N', 'N', 'N', 'N', 'N', 'N', 'N', 'N', 'N', 'N', 'N', 'N', 'N', 'N', 'N', 'N', 'N', 'N', 'N', 'N', 'N', 'N', 'N', 'N', 'N', 'N', 'N', 'N', 'N', 'N', 'N', 'N', 'N', 'N', 'N', 'N', 'N', 'N', 'N', 'N', 'N', 'N', 'N', 'N', 'N', 'N', 'N', 'N', 'N', 'N', 'N', 'N', 'N', 'N', 'N', 'N', 'N', 'N', 'N', 'N', 'N', 'N', 'N', 'N', 'N', 'N', 'N', 'N', 'N', 'N', 'N', 'N', 'N', 'N', 'N', 'N', 'N', 'N', 'N', 'N', 'N', 'N', 'N', 'N', 'N', 'N', 'N', 'N', 'N', 'N', 'N', 'N', 'N', 'N', 'N', 'N', 'N', 'N', 'N', 'N', 'N', 'N', 'N', 'N', 'N', 'N', 'N', 'N', 'N', 'N', 'N', 'N', 'N', 'N', 'N', 'N', 'N', 'N', 'N', 'N', 'N', 'N', 'N', 'N', 'N', 'N', 'N', 'N', 'N', 'N', 'N', 'N', 'N', 'N', 'N', 'N', 'N', 'N', 'N', 'N', 'N', 'N', 'N', 'N', 'N', 'N', 'N', 'N', 'N', 'N', 'N', 'N', 'N', 'N', 'N', 'N', 'N', 'N', 'N', 'N', 'N', 'N', 'N', 'N', 'N', 'N', 'N', 'N', 'N', 'N', 'N', 'N', 'N', 'N', 'N', 'N', 'N', 'N', 'N', 'N', 'N', 'N', 'N', 'N', 'N', 'N', 'N', 'N', 'N', 'N', 'N', 'N', 'N', 'N', 'N', 'N', 'N', 'N', 'N', 'N', 'N', 'N', 'N', 'N', 'N', 'N', 'N', 'N', 'N', 'N', 'N', 'N', 'N', 'N', 'N', 'N', 'N', 'N', 'N', 'N', 'N', 'N', 'N', 'N', 'N', 'N', 'N', 'N', 'N', 'N', 'N', 'N', 'N', 'N', 'N', 'N', 'N', 'N', 'N', 'N', 'N', 'N', 'N', 'N', 'N', 'N', 'N', 'N', 'N', 'N', 'N', 'N', 'N', 'N', 'N', 'N', 'N', 'N', 'N', 'N', 'N', 'N', 'N', 'N', 'N', 'N', 'N', 'N', 'N', 'N', 'N', 'N', 'N', 'N', 'N', 'N', 'N', 'N', 'N', 'N', 'N', 'N', 'N', 'N', 'N', 'N', 'N', 'N', 'N', 'N', 'N', 'N', 'N', 'A', 'N', 'N', 'N', 'N', 'N', 'N', 'N', 'N', 'N', 'N', 'N', 'N', 'N', 'N', 'N', 'N', 'N', 'N', 'N', 'N', 'N', 'N', 'N', 'N', 'N', 'N', 'N', 'N', 'N', 'N', 'N', 'N', 'N', 'N', 'N', 'N', 'N', 'N', 'N', 'N', 'N', 'N', 'N', 'N', 'N', 'N', 'N', 'N', 'N', 'N', 'N', 'N', 'N', 'N', 'N', 'N', 'N', 'N', 'N', 'N', 'N', 'N', 'N', 'N', 'N', 'N', 'N', 'N', 'N', 'N', 'N', 'N', 'N', 'N', 'N', 'N', 'N', 'N', 'N', 'N', 'N', 'N', 'N', 'N', 'N', 'N', 'N', 'N', 'N', 'N', 'A', 'N', 'N', 'N', 'N', 'N', 'N', 'A', 'N', 'N', 'N', 'N', 'N', 'N', 'N', 'N', 'N', 'N', 'N', 'N', 'N', 'N', 'N', 'N', 'N', 'A', 'N', 'N', 'N', 'N', 'N', 'N', 'N', 'N', 'N', 'N', 'N', 'N', 'N', 'N', 'N', 'N', 'A', 'N', 'N', 'N', 'N', 'A', 'N', 'N', 'N', 'N', 'N', 'N', 'N', 'N', 'N', 'N', 'N', 'N', 'N', 'N', 'N', 'N', 'N', 'N', 'N', 'N', 'N', 'N', 'N', 'N', 'N', 'N', 'N', 'N', 'N', 'N', 'N', 'N', 'N', 'N', 'N', 'N', 'N', 'N', 'N', 'N', 'N', 'N', 'N', 'N', 'N', 'N', 'N', 'N', 'N', 'N', 'N', 'N', 'N', 'N', 'N', 'N', 'N', 'N', 'N', 'N', 'N', 'N', 'N', 'N', 'N', 'N', 'N', 'N', 'N', 'N', 'N', 'N', 'N', 'N', 'N', 'N', 'N', 'N', 'N', 'N', 'N', 'N', 'N', 'N', 'N', 'N', 'N', 'N', 'N', 'N', 'N', 'N', 'N', 'A', 'N', 'N', 'N', 'N', 'N', 'N', 'N', 'N', 'N', 'N', 'N', 'N', 'N', 'N', 'N', 'A', 'N', 'N', 'N', 'N', 'N', 'N', 'N', 'N', 'N', 'N', 'N', 'N', 'N', 'N', 'N', 'N', 'N', 'N', 'N', 'N', 'N', 'N', 'N', 'N', 'N', 'N', 'N', 'N', 'N', 'N', 'N', 'N', 'N', 'N', 'N', 'N', 'N', 'N', 'N', 'N', 'N', 'N', 'N', 'N', 'N', 'N', 'N', 'N', 'N', 'N', 'N', 'N', 'N', 'N', 'N', 'N', 'N', 'N', 'N', 'N', 'N', 'N', 'N', 'N', 'N', 'N', 'N', 'N', 'N', 'N', 'N', 'N', 'N', 'N', 'N', 'N', 'N', 'N', 'N', 'N', 'N', 'N', 'N', 'N', 'N', 'N', 'N', 'N', 'A', 'N', 'N', 'N', 'N', 'N', 'N', 'N', 'N', 'N', 'N', 'N', 'N', 'N', 'N', 'N', 'N', 'N', 'N', 'N', 'N', 'N', 'N', 'N', 'N', 'N', 'N', 'N', 'N', 'N', 'N', 'N', 'N', 'N', 'N', 'N', 'N', 'N', 'N', 'N', 'N', 'N', 'N', 'N', 'N', 'N', 'N', 'N', 'N', 'N', 'N', 'N', 'N', 'N', 'N', 'N', 'N', 'N', 'N', 'N', 'N', 'N', 'N', 'N', 'N', 'N', 'N', 'N', 'N', 'N', 'A', 'N', 'N', 'N', 'N', 'N', 'N', 'N', 'N', 'N', 'N', 'N', 'N', 'N', 'N', 'N', 'N', 'N', 'N', 'N', 'N', 'N', 'N', 'N', 'N', 'N', 'N', 'N', 'N', 'N', 'N', 'N', 'N', 'N', 'N', 'N', 'N', 'N', 'N', 'N', 'N', 'N', 'N', 'N', 'N', 'N', 'N', 'N', 'N', 'N', 'N', 'N', 'N', 'N', 'N', 'N', 'N', 'N', 'N', 'N', 'N', 'N', 'N', 'N', 'N', 'N', 'N', 'N', 'N', 'N', 'N', 'N', 'N', 'N', 'N', 'N', 'N', 'N', 'N', 'N', 'N', 'N', 'N', 'N', 'N', 'A', 'N', 'N', 'A', 'N', 'N', 'N', 'N', 'N', 'N', 'N', 'N', 'N', 'N', 'N', 'N', 'N', 'N', 'N', 'N', 'N', 'N', 'N', 'N', 'N', 'N', 'N', 'N', 'N', 'N', 'N', 'N', 'N', 'N', 'N', 'N', 'N', 'N', 'N', 'N', 'N', 'A', 'N', 'N', 'N', 'N', 'N', 'N', 'N', 'A', 'N', 'N', 'N', 'N', 'N', 'N', 'N', 'N', 'N', 'N', 'N', 'N', 'N', 'N', 'N', 'N', 'N', 'N', 'N', 'N', 'N', 'A', 'N', 'N', 'N', 'N', 'N', 'N', 'A', 'N', 'N', 'N', 'N', 'N', 'N', 'N', 'N', 'N', 'N', 'N', 'N', 'N', 'N', 'N', 'N', 'N', 'N', 'N', 'N', 'N', 'N', 'N', 'N', 'N', 'N', 'N', 'N', 'N', 'N', 'N', 'N', 'N', 'A', 'N', 'N', 'N', 'N', 'N', 'N', 'N', 'N', 'N', 'N', 'N', 'A', 'N', 'N', 'N', 'N', 'N', 'N', 'N', 'N', 'N', 'N', 'N', 'N', 'N', 'N', 'N', 'N', 'N', 'N', 'N', 'N', 'N', 'N', 'N', 'N', 'N', 'N', 'N', 'N', 'N', 'N', 'N', 'N', 'N', 'N', 'N', 'N', 'N', 'N', 'N', 'N', 'N', 'N', 'N', 'N', 'N', 'N', 'N', 'N', 'N', 'N', 'N', 'N', 'N', 'N', 'N', 'N', 'N', 'N', 'N', 'N', 'N', 'N', 'N', 'N', 'N', 'N', 'N', 'N', 'N', 'N', 'N', 'N', 'N', 'N', 'N', 'N', 'N', 'N', 'N', 'N', 'N', 'N', 'N', 'N', 'N', 'N', 'N', 'N', 'N', 'N', 'N', 'N', 'N', 'N', 'N', 'N', 'N', 'N', 'N', 'N', 'N', 'N', 'N', 'N', 'N', 'N', 'N', 'N', 'N', 'N', 'N', 'N', 'N', 'N', 'N', 'N', 'N', 'N', 'N', 'N', 'N', 'N', 'N', 'N', 'N', 'N', 'N', 'N', 'N', 'N', 'N', 'A', 'N', 'N', 'N', 'N', 'N', 'N', 'N', 'N', 'N', 'N', 'N', 'N', 'N', 'N', 'N', 'N', 'N', 'N', 'N', 'N', 'N', 'N', 'N', 'N', 'N', 'N', 'N', 'N', 'N', 'N', 'N', 'N', 'N', 'N', 'N', 'N', 'N', 'N', 'N', 'N', 'N', 'N', 'N', 'N', 'N', 'N', 'N', 'N', 'N', 'N', 'N', 'N', 'N', 'N', 'N', 'N', 'N', 'N', 'N', 'N', 'N', 'N', 'N', 'N', 'N', 'N', 'N', 'N', 'N', 'N', 'N', 'N', 'N', 'N', 'N', 'N', 'N', 'N', 'N', 'N', 'N', 'N', 'A', 'N', 'N', 'N', 'N', 'N', 'N', 'N', 'N', 'N', 'N', 'N', 'N', 'N', 'N', 'N', 'N', 'N', 'N', 'N', 'N', 'N', 'N', 'N', 'N', 'N', 'N', 'N', 'N', 'N', 'N', 'N', 'N', 'N', 'N', 'N', 'N', 'N', 'N', 'N', 'N', 'N', 'N', 'N', 'N', 'N', 'N', 'N', 'N', 'N', 'N', 'N', 'N', 'N', 'N', 'N', 'N', 'N', 'N', 'N', 'N', 'N', 'N', 'N', 'N', 'N', 'N', 'N', 'N', 'N', 'N', 'N', 'N', 'N', 'N', 'N', 'N', 'N', 'N', 'N', 'N', 'N', 'N', 'N', 'N', 'N', 'N', 'N', 'V', 'N', 'N', 'N', 'N', 'N', 'N', 'N', 'N', 'N', 'N', 'N', 'N', 'N', 'N', 'N', 'N', 'N', 'N', 'N', 'N', 'N', 'N', 'N', 'N', 'N', 'N', 'N', 'N', 'N', 'N', 'N', 'N', 'N', 'N', 'N', 'N', 'N', 'N', 'N', 'N', 'N', 'N', 'N', 'N', 'N', 'N', 'N', 'N', 'N', 'N', 'N', 'N', 'N', 'N', 'A', 'N', 'N', 'N', 'N', 'N', 'N', 'N', 'N', 'N', 'N', 'N', 'A', 'N', 'N', 'N', 'A', 'N', 'N', 'N', 'N', 'N', 'N', 'N', 'N', 'N', 'N', 'N', 'N', 'N', 'N', 'N', 'N', 'N', 'N', 'N', 'N', 'N', 'N', 'N', 'A', 'N', 'N', 'N', 'N', 'N', 'N', 'N', 'N', 'N', 'N', 'N', 'N', 'N', 'N', 'N', 'N', 'A', 'N', 'N', 'N', 'N', 'N', 'N', 'N', 'N', 'N', 'N', 'N', 'N', 'N', 'N', 'N', 'N', 'N', 'N', 'N', 'N', 'N', 'N', 'N', 'N', 'N', 'N', 'N', 'N', 'N', 'N', 'N', 'N', 'N', 'N', 'N', 'N', 'N', 'N', 'N', 'N', 'N', 'N', 'N', 'N', 'N', 'N', 'N', 'N', 'A', 'N', 'N', 'N', 'N', 'N', 'N', 'N', 'N', 'N', 'N', 'N', 'N', 'N', 'N', 'N', 'N', 'N', 'N', 'N', 'N', 'N', 'N', 'N', 'N', 'N', 'N', 'N', 'N', 'N', 'N', 'N', 'N', 'N', 'N', 'N', 'N', 'N', 'N', 'N', 'N', 'N', 'N', 'N', 'N', 'N', 'N', 'N', 'N', 'N', 'N', 'N', 'N', 'N', 'N', 'N', 'N', 'N', 'N', 'N', 'N', 'N', 'N', 'N', 'N', 'N', 'N', 'N', 'N', 'N', 'N', 'N', 'N', 'N', 'N', 'N', 'N', 'N', 'N', 'N', 'N', 'N', 'N', 'N', 'N', 'N', 'N', 'N', 'N', 'N', 'N', 'N', 'N', 'N', 'N', 'N', 'N', 'N', 'N', 'N', 'N', 'N', 'N', 'N', 'N', 'N', 'N', 'N', 'N', 'N', 'N', 'N', 'N', 'N', 'N', 'N', 'N', 'N', 'N', 'N', 'N', 'N', 'N', 'N', 'N', 'N', 'N', 'N', 'N', 'A', 'N', 'N', 'N', 'N', 'N', 'N', 'N', 'N', 'N', 'N', 'N', 'N', 'N', 'N', 'N', 'N', 'N', 'N', 'N', 'N', 'N', 'N', 'N', 'N', 'N', 'N', 'N', 'N', 'N', 'N', 'N', 'N', 'N', 'N', 'N', 'N', 'N', 'N', 'N', 'N', 'N', 'N', 'N', 'N', 'N', 'N', 'N', 'N', 'N', 'N', 'N', 'N', 'N', 'N', 'N', 'N', 'N', 'N', 'N', 'N', 'N', 'N', 'N', 'N', 'N', 'N', 'N', 'N', 'N', 'N', 'N', 'N', 'N', 'N', 'N', 'N']\n",
            "2274\n",
            "[    18     77    370 ... 649484 649734 649991]\n",
            "2274\n"
          ]
        }
      ],
      "source": [
        "file = data_path + pts[0]\n",
        "p_signal, symbols, symbol_samples = load_ecg(file)\n",
        "\n",
        "print(p_signal)\n",
        "print(p_signal.shape)\n",
        "print(symbols)\n",
        "print(len(symbols))\n",
        "print(symbol_samples)\n",
        "print(len(symbol_samples))"
      ]
    },
    {
      "cell_type": "code",
      "execution_count": 18,
      "metadata": {
        "colab": {
          "base_uri": "https://localhost:8080/"
        },
        "id": "fxtRZPzkSWjb",
        "outputId": "57b678ee-0443-4c2c-a7da-85669e1c0542"
      },
      "outputs": [
        {
          "name": "stdout",
          "output_type": "stream",
          "text": [
            "['+' 'A' 'N' 'V']\n",
            "[   1   33 2239    1]\n"
          ]
        }
      ],
      "source": [
        "values, counts = np.unique(symbols, return_counts = True)\n",
        "print(values)\n",
        "print(counts)"
      ]
    },
    {
      "cell_type": "code",
      "execution_count": 19,
      "metadata": {
        "colab": {
          "base_uri": "https://localhost:8080/"
        },
        "id": "Lgx5smTJSWlo",
        "outputId": "43fcbdde-8f93-4970-ba91-52a5671948ff"
      },
      "outputs": [
        {
          "name": "stdout",
          "output_type": "stream",
          "text": [
            "[2044, 66792, 74986, 99579, 128085, 170719, 279576, 305709, 307745, 312825, 317785, 319223, 346804, 351481, 377081, 397335, 421994, 422818, 433841, 436149, 442623, 444705, 454651, 458168, 496712, 520982, 546792, 562812, 566259, 567379, 574429, 579448, 593068, 629171]\n"
          ]
        }
      ],
      "source": [
        "ab_index = [b for a, b in zip(symbols, symbol_samples) if a in abnormal]\n",
        "print(ab_index)"
      ]
    },
    {
      "cell_type": "code",
      "execution_count": 20,
      "metadata": {
        "colab": {
          "base_uri": "https://localhost:8080/"
        },
        "id": "ZAFKWD0_TaTz",
        "outputId": "09a40a5b-1821-4c85-b545-86e387fb2f62"
      },
      "outputs": [
        {
          "name": "stdout",
          "output_type": "stream",
          "text": [
            "[77, 370, 662, 946, 1231, 1515, 1809, 2402, 2706, 2998, 3282, 3560, 3862, 4170, 4466, 4764, 5060, 5346, 5633, 5918, 6214, 6527, 6823, 7106, 7391, 7670, 7953, 8245, 8539, 8837, 9141, 9431, 9710, 9998, 10282, 10591, 10894, 11191, 11480, 11781, 12066, 12350, 12645, 12949, 13266, 13562, 13842, 14131, 14423, 14710, 15011, 15310, 15607, 15899, 16183, 16464, 16755, 17058, 17358, 17657, 17947, 18227, 18514, 18795, 19080, 19388, 19693, 19989, 20271, 20554, 20837, 21131, 21423, 21729, 22029, 22321, 22603, 22881, 23164, 23453, 23756, 24053, 24345, 24625, 24913, 25197, 25485, 25779, 26088, 26387, 26670, 26952, 27237, 27536, 27833, 28132, 28431, 28727, 29014, 29294, 29580, 29873, 30182, 30487, 30779, 31065, 31348, 31635, 31927, 32224, 32529, 32836, 33127, 33403, 33691, 33980, 34274, 34575, 34870, 35168, 35455, 35736, 36016, 36309, 36605, 36916, 37215, 37499, 37782, 38071, 38356, 38651, 38950, 39252, 39547, 39825, 40096, 40382, 40677, 40970, 41271, 41567, 41849, 42117, 42416, 42697, 42996, 43307, 43603, 43892, 44172, 44455, 44743, 45030, 45323, 45628, 45925, 46204, 46478, 46759, 47037, 47334, 47632, 47919, 48202, 48486, 48766, 49040, 49323, 49618, 49923, 50214, 50491, 50771, 51056, 51339, 51626, 51921, 52216, 52506, 52784, 53063, 53341, 53631, 53923, 54219, 54507, 54784, 55064, 55343, 55625, 55908, 56207, 56502, 56784, 57055, 57333, 57615, 57900, 58192, 58490, 58788, 59077, 59354, 59631, 59919, 60214, 60515, 60817, 61105, 61391, 61680, 61963, 62247, 62547, 62852, 63154, 63438, 63711, 63998, 64288, 64581, 64876, 65174, 65464, 65750, 66030, 66307, 66604, 67130, 67434, 67728, 68007, 68302, 68594, 68886, 69191, 69503, 69796, 70073, 70357, 70643, 70941, 71240, 71539, 71845, 72138, 72417, 72703, 72998, 73301, 73611, 73911, 74196, 74483, 74767, 75332, 75632, 75934, 76233, 76515, 76785, 77074, 77366, 77663, 77954, 78251, 78539, 78824, 79100, 79386, 79689, 79991, 80290, 80583, 80868, 81152, 81439, 81730, 82030, 82335, 82636, 82927, 83209, 83492, 83794, 84103, 84407, 84709, 85010, 85303, 85580, 85870, 86171, 86478, 86780, 87079, 87364, 87652, 87941, 88232, 88530, 88834, 89135, 89421, 89703, 89988, 90286, 90590, 90885, 91190, 91481, 91761, 92046, 92338, 92633, 92944, 93246, 93534, 93824, 94102, 94395, 94693, 94996, 95298, 95606, 95893, 96171, 96450, 96746, 97050, 97348, 97644, 97936, 98228, 98508, 98789, 99084, 99382, 99930, 100218, 100496, 100781, 101071, 101361, 101653, 101941, 102234, 102516, 102793, 103074, 103371, 103669, 103964, 104261, 104545, 104830, 105118, 105407, 105707, 106015, 106314, 106600, 106882, 107159, 107453, 107750, 108045, 108342, 108643, 108926, 109199, 109486, 109772, 110076, 110374, 110673, 110963, 111244, 111524, 111810, 112108, 112405, 112710, 113000, 113281, 113562, 113850, 114142, 114428, 114716, 115000, 115280, 115547, 115815, 116084, 116369, 116654, 116939, 117213, 117494, 117766, 118044, 118323, 118607, 118911, 119215, 119509, 119791, 120077, 120376, 120676, 120990, 121300, 121604, 121889, 122170, 122460, 122750, 123050, 123360, 123664, 123936, 124221, 124507, 124775, 125060, 125355, 125648, 125926, 126203, 126476, 126746, 127025, 127313, 127603, 127892, 128423, 128698, 128958, 129230, 129519, 129798, 130057, 130318, 130568, 130818, 131073, 131326, 131584, 131851, 132122, 132381, 132629, 132883, 133132, 133390, 133662, 133933, 134197, 134463, 134737, 134990, 135243, 135504, 135780, 136061, 136350, 136630, 136899, 137170, 137449, 137729, 138008, 138304, 138598, 138888, 139164, 139440, 139719, 140009, 140302, 140599, 140881, 141152, 141423, 141684, 141943, 142207, 142479, 142747, 143010, 143265, 143515, 143766, 144025, 144286, 144557, 144832, 145111, 145381, 145647, 145902, 146170, 146445, 146737, 147013, 147290, 147565, 147832, 148099, 148363, 148637, 148916, 149204, 149488, 149768, 150030, 150303, 150575, 150849, 151122, 151407, 151700, 151974, 152237, 152510, 152781, 153067, 153362, 153644, 153922, 154193, 154470, 154741, 155009, 155291, 155588, 155865, 156132, 156395, 156648, 156906, 157168, 157430, 157695, 157960, 158233, 158489, 158730, 158974, 159225, 159479, 159738, 160001, 160260, 160507, 160755, 161005, 161254, 161499, 161764, 162035, 162308, 162573, 162835, 163093, 163362, 163629, 163899, 164182, 164461, 164731, 164991, 165246, 165499, 165756, 166032, 166301, 166570, 166841, 167111, 167371, 167641, 167912, 168191, 168484, 168784, 169074, 169349, 169629, 169907, 170201, 170495, 171074, 171371, 171652, 171921, 172199, 172481, 172776, 173067, 173351, 173629, 173907, 174176, 174451, 174737, 175023, 175323, 175608, 175877, 176145, 176427, 176698, 176975, 177248, 177523, 177797, 178059, 178316, 178578, 178841, 179117, 179388, 179662, 179927, 180182, 180443, 180705, 180964, 181236, 181523, 181811, 182084, 182353, 182624, 182896, 183181, 183475, 183778, 184071, 184361, 184649, 184933, 185213, 185510, 185828, 186137, 186428, 186717, 187005, 187291, 187577, 187872, 188179, 188481, 188763, 189043, 189330, 189624, 189929, 190228, 190529, 190820, 191112, 191395, 191674, 191977, 192281, 192575, 192862, 193146, 193423, 193703, 193994, 194281, 194574, 194868, 195156, 195426, 195701, 195978, 196268, 196560, 196847, 197132, 197414, 197685, 197950, 198224, 198504, 198791, 199075, 199353, 199619, 199894, 200161, 200434, 200714, 200993, 201271, 201545, 201806, 202067, 202339, 202614, 202896, 203182, 203468, 203741, 204021, 204299, 204574, 204854, 205158, 205459, 205737, 206016, 206288, 206567, 206844, 207130, 207421, 207724, 208004, 208277, 208548, 208822, 209100, 209392, 209683, 209973, 210256, 210534, 210809, 211085, 211364, 211654, 211951, 212228, 212502, 212777, 213058, 213326, 213606, 213894, 214181, 214465, 214738, 215005, 215280, 215563, 215850, 216141, 216431, 216710, 216990, 217268, 217547, 217824, 218122, 218416, 218703, 218972, 219246, 219529, 219813, 220098, 220391, 220691, 220977, 221252, 221527, 221804, 222081, 222375, 222666, 222951, 223227, 223507, 223783, 224047, 224328, 224621, 224915, 225195, 225472, 225743, 226024, 226296, 226573, 226863, 227144, 227427, 227702, 227975, 228238, 228516, 228808, 229094, 229376, 229660, 229936, 230214, 230485, 230761, 231058, 231357, 231638, 231913, 232190, 232459, 232732, 233016, 233301, 233588, 233875, 234151, 234415, 234684, 234959, 235249, 235547, 235828, 236108, 236390, 236664, 236927, 237205, 237495, 237783, 238070, 238343, 238610, 238884, 239157, 239433, 239717, 239996, 240266, 240541, 240809, 241065, 241318, 241588, 241855, 242114, 242373, 242632, 242879, 243132, 243388, 243643, 243908, 244191, 244461, 244729, 244984, 245246, 245515, 245791, 246065, 246352, 246647, 246935, 247201, 247469, 247742, 248017, 248300, 248586, 248878, 249158, 249433, 249706, 249988, 250273, 250558, 250858, 251160, 251441, 251710, 251994, 252285, 252584, 252868, 253159, 253456, 253741, 254010, 254282, 254585, 254891, 255170, 255453, 255738, 256027, 256295, 256572, 256860, 257157, 257439, 257710, 257966, 258226, 258478, 258737, 259005, 259280, 259541, 259811, 260076, 260334, 260585, 260852, 261132, 261417, 261690, 261968, 262241, 262516, 262789, 263062, 263350, 263641, 263931, 264217, 264499, 264772, 265062, 265354, 265651, 265947, 266238, 266528, 266815, 267099, 267375, 267679, 267978, 268260, 268544, 268823, 269102, 269384, 269669, 269960, 270257, 270550, 270821, 271094, 271370, 271656, 271952, 272244, 272533, 272839, 273123, 273394, 273675, 273967, 274264, 274560, 274852, 275131, 275403, 275671, 275949, 276235, 276516, 276804, 277102, 277388, 277649, 277923, 278211, 278518, 278814, 279098, 279382, 279918, 280209, 280511, 280814, 281110, 281402, 281682, 281955, 282232, 282513, 282801, 283096, 283389, 283672, 283944, 284216, 284491, 284778, 285073, 285363, 285653, 285936, 286210, 286486, 286763, 287051, 287353, 287655, 287944, 288225, 288506, 288792, 289076, 289373, 289667, 289971, 290257, 290538, 290813, 291109, 291407, 291696, 291990, 292281, 292566, 292844, 293123, 293411, 293712, 294011, 294296, 294581, 294857, 295142, 295421, 295717, 296013, 296319, 296611, 296889, 297169, 297450, 297738, 298032, 298334, 298627, 298920, 299206, 299483, 299756, 300051, 300360, 300662, 300940, 301210, 301494, 301781, 302063, 302347, 302644, 302947, 303240, 303503, 303773, 304065, 304361, 304639, 304923, 305211, 305497, 306035, 306337, 306641, 306943, 307234, 307514, 308062, 308349, 308625, 308912, 309216, 309515, 309780, 310052, 310332, 310626, 310914, 311199, 311488, 311783, 312062, 312327, 312605, 313193, 313508, 313808, 314090, 314373, 314664, 314952, 315245, 315541, 315843, 316136, 316415, 316693, 316980, 317266, 317560, 318145, 318438, 318729, 319011, 319586, 319904, 320205, 320493, 320786, 321072, 321371, 321663, 321968, 322275, 322573, 322856, 323138, 323425, 323730, 324044, 324340, 324641, 324929, 325215, 325495, 325782, 326088, 326395, 326698, 326986, 327276, 327566, 327858, 328149, 328452, 328753, 329056, 329339, 329619, 329912, 330216, 330524, 330819, 331124, 331411, 331704, 331989, 332279, 332588, 332897, 333199, 333479, 333768, 334056, 334348, 334643, 334943, 335248, 335543, 335823, 336100, 336385, 336679, 336979, 337281, 337571, 337862, 338145, 338432, 338720, 339025, 339327, 339634, 339926, 340205, 340492, 340780, 341075, 341379, 341684, 341974, 342266, 342547, 342822, 343115, 343409, 343705, 343995, 344279, 344556, 344843, 345129, 345415, 345722, 346017, 346308, 346596, 347147, 347454, 347759, 348063, 348367, 348658, 348934, 349221, 349502, 349804, 350112, 350410, 350692, 350980, 351265, 351821, 352115, 352416, 352711, 352986, 353257, 353547, 353832, 354128, 354426, 354717, 355015, 355302, 355579, 355858, 356165, 356463, 356758, 357045, 357327, 357610, 357900, 358186, 358482, 358788, 359086, 359365, 359634, 359903, 360182, 360471, 360763, 361051, 361343, 361625, 361894, 362162, 362451, 362732, 363026, 363318, 363606, 363878, 364158, 364446, 364730, 365022, 365330, 365640, 365914, 366191, 366482, 366778, 367063, 367363, 367674, 367960, 368247, 368531, 368824, 369109, 369410, 369714, 370010, 370279, 370557, 370842, 371131, 371406, 371703, 372007, 372299, 372557, 372834, 373123, 373428, 373712, 374000, 374303, 374595, 374855, 375124, 375412, 375715, 375998, 376287, 376576, 376861, 377404, 377700, 378005, 378308, 378608, 378886, 379159, 379439, 379731, 380023, 380312, 380610, 380898, 381173, 381452, 381724, 382014, 382308, 382607, 382895, 383183, 383457, 383743, 384027, 384317, 384614, 384915, 385205, 385487, 385768, 386050, 386349, 386649, 386941, 387241, 387533, 387811, 388084, 388373, 388671, 388979, 389277, 389563, 389860, 390149, 390434, 390730, 391039, 391344, 391641, 391924, 392204, 392493, 392780, 393077, 393377, 393674, 393957, 394243, 394519, 394801, 395096, 395401, 395697, 395989, 396268, 396553, 396845, 397133, 397704, 398007, 398294, 398569, 398853, 399139, 399436, 399730, 400023, 400321, 400599, 400877, 401163, 401453, 401757, 402061, 402361, 402646, 402933, 403215, 403509, 403804, 404100, 404403, 404697, 404980, 405255, 405543, 405836, 406131, 406425, 406715, 407005, 407288, 407559, 407849, 408151, 408452, 408746, 409030, 409314, 409597, 409881, 410177, 410477, 410781, 411071, 411352, 411632, 411915, 412206, 412512, 412816, 413109, 413402, 413692, 413969, 414249, 414541, 414847, 415143, 415430, 415703, 415994, 416275, 416555, 416849, 417152, 417445, 417728, 418006, 418283, 418577, 418866, 419155, 419453, 419745, 420022, 420302, 420583, 420873, 421173, 421474, 421766, 422320, 422603, 423164, 423462, 423767, 424064, 424339, 424616, 424893, 425188, 425491, 425788, 426078, 426380, 426661, 426938, 427225, 427523, 427827, 428129, 428413, 428698, 428992, 429276, 429558, 429867, 430165, 430470, 430754, 431034, 431315, 431615, 431910, 432209, 432509, 432799, 433082, 433364, 433648, 434211, 434513, 434810, 435096, 435370, 435658, 435951, 436512, 436819, 437118, 437400, 437682, 437965, 438268, 438570, 438865, 439158, 439454, 439740, 440022, 440312, 440622, 440934, 441230, 441518, 441814, 442109, 442406, 442992, 443304, 443606, 443888, 444175, 444473, 445060, 445362, 445658, 445948, 446226, 446507, 446800, 447104, 447402, 447695, 447980, 448264, 448548, 448834, 449137, 449441, 449748, 450038, 450325, 450607, 450895, 451193, 451501, 451805, 452101, 452390, 452678, 452959, 453250, 453545, 453852, 454154, 454444, 454997, 455293, 455588, 455888, 456189, 456487, 456771, 457045, 457333, 457634, 457937, 458524, 458816, 459103, 459380, 459664, 459966, 460275, 460571, 460858, 461148, 461433, 461721, 462014, 462314, 462621, 462919, 463197, 463481, 463765, 464049, 464361, 464664, 464960, 465257, 465538, 465820, 466104, 466404, 466707, 467010, 467308, 467589, 467878, 468164, 468459, 468762, 469065, 469363, 469660, 469942, 470230, 470530, 470837, 471139, 471444, 471727, 472019, 472304, 472589, 472887, 473201, 473498, 473792, 474074, 474362, 474652, 474942, 475237, 475547, 475851, 476136, 476417, 476705, 477000, 477307, 477604, 477898, 478195, 478480, 478757, 479040, 479332, 479633, 479931, 480218, 480494, 480779, 481057, 481340, 481641, 481941, 482239, 482525, 482801, 483071, 483350, 483634, 483930, 484220, 484507, 484786, 485073, 485352, 485641, 485939, 486253, 486556, 486844, 487129, 487423, 487719, 488018, 488320, 488635, 488931, 489214, 489497, 489788, 490090, 490393, 490695, 490994, 491287, 491570, 491850, 492145, 492445, 492750, 493046, 493340, 493623, 493914, 494199, 494491, 494789, 495085, 495370, 495649, 495924, 496201, 496499, 497074, 497376, 497664, 497945, 498230, 498517, 498812, 499114, 499417, 499701, 499987, 500268, 500549, 500847, 501145, 501448, 501745, 502039, 502316, 502601, 502888, 503191, 503496, 503794, 504080, 504372, 504654, 504936, 505227, 505528, 505830, 506125, 506398, 506679, 506969, 507256, 507552, 507855, 508159, 508455, 508744, 509019, 509319, 509623, 509923, 510220, 510520, 510804, 511093, 511371, 511660, 511970, 512277, 512567, 512851, 513135, 513424, 513719, 514014, 514318, 514628, 514919, 515194, 515476, 515762, 516065, 516371, 516667, 516970, 517266, 517553, 517832, 518127, 518426, 518734, 519028, 519307, 519594, 519882, 520149, 520463, 520768, 521342, 521627, 521913, 522209, 522511, 522815, 523116, 523416, 523708, 523999, 524279, 524577, 524890, 525198, 525492, 525780, 526064, 526355, 526646, 526941, 527243, 527549, 527838, 528118, 528402, 528689, 528991, 529293, 529599, 529897, 530191, 530471, 530762, 531057, 531358, 531668, 531967, 532257, 532544, 532828, 533121, 533416, 533719, 534012, 534307, 534592, 534873, 535161, 535459, 535768, 536067, 536364, 536644, 536930, 537212, 537505, 537810, 538115, 538421, 538707, 538993, 539278, 539575, 539874, 540172, 540472, 540768, 541052, 541334, 541616, 541916, 542226, 542529, 542825, 543116, 543407, 543689, 543983, 544285, 544590, 544895, 545182, 545455, 545741, 546022, 546306, 546599, 547199, 547482, 547758, 548032, 548334, 548632, 548926, 549217, 549502, 549784, 550070, 550348, 550639, 550952, 551253, 551532, 551815, 552096, 552385, 552680, 552974, 553282, 553588, 553876, 554154, 554439, 554723, 555026, 555323, 555613, 555914, 556203, 556486, 556765, 557056, 557361, 557667, 557962, 558238, 558527, 558813, 559102, 559395, 559695, 559997, 560295, 560576, 560846, 561141, 561435, 561732, 562019, 562308, 562591, 563141, 563423, 563731, 564030, 564320, 564601, 564883, 565164, 565452, 565741, 566041, 566615, 566899, 567185, 567721, 568027, 568326, 568624, 568919, 569204, 569482, 569762, 570058, 570366, 570668, 570957, 571246, 571538, 571831, 572122, 572428, 572730, 573040, 573328, 573608, 573893, 574193, 574786, 575095, 575387, 575678, 575959, 576248, 576551, 576862, 577162, 577456, 577741, 578025, 578310, 578600, 578901, 579204, 579790, 580074, 580357, 580648, 580947, 581246, 581543, 581834, 582119, 582395, 582668, 582919, 583239, 583539, 583821, 584097, 584363, 584635, 584903, 585175, 585454, 585731, 586011, 586275, 586525, 586771, 587030, 587299, 587572, 587843, 588113, 588377, 588643, 588905, 589177, 589454, 589747, 590040, 590316, 590588, 590863, 591143, 591417, 591706, 591999, 592288, 592571, 592853, 593387, 593683, 593990, 594280, 594563, 594855, 595127, 595402, 595690, 595992, 596278, 596584, 596879, 597136, 597402, 597670, 597925, 598186, 598458, 598713, 598969, 599222, 599468, 599703, 599952, 600214, 600483, 600739, 601011, 601273, 601537, 601799, 602064, 602330, 602610, 602893, 603179, 603455, 603722, 603989, 604277, 604564, 604844, 605148, 605459, 605737, 606008, 606293, 606587, 606880, 607178, 607475, 607766, 608043, 608309, 608576, 608853, 609136, 609425, 609715, 609987, 610262, 610544, 610823, 611108, 611399, 611695, 611986, 612263, 612539, 612819, 613108, 613399, 613693, 613983, 614259, 614539, 614816, 615089, 615370, 615676, 615968, 616250, 616526, 616803, 617086, 617366, 617655, 617949, 618248, 618528, 618804, 619081, 619362, 619653, 619951, 620249, 620541, 620826, 621102, 621379, 621661, 621944, 622247, 622541, 622823, 623089, 623367, 623638, 623917, 624191, 624482, 624765, 625048, 625309, 625579, 625853, 626138, 626427, 626715, 627000, 627281, 627555, 627827, 628103, 628391, 628688, 628981, 629494, 629761, 630027, 630289, 630561, 630836, 631110, 631377, 631636, 631898, 632156, 632414, 632688, 632958, 633229, 633498, 633768, 634028, 634283, 634545, 634826, 635107, 635394, 635684, 635966, 636238, 636520, 636811, 637105, 637399, 637704, 637997, 638282, 638560, 638846, 639140, 639446, 639744, 640039, 640329, 640615, 640900, 641178, 641479, 641777, 642065, 642337, 642614, 642887, 643164, 643439, 643721, 644005, 644286, 644547, 644807, 645063, 645320, 645581, 645863, 646132, 646393, 646658, 646916, 647168, 647414, 647672, 647934, 648203, 648477, 648733, 648978, 649232, 649484, 649734, 649991]\n"
          ]
        }
      ],
      "source": [
        "nor_index = [b for a, b in zip(symbols, symbol_samples) if a in normal]\n",
        "print(nor_index)"
      ]
    },
    {
      "cell_type": "code",
      "execution_count": 21,
      "metadata": {
        "colab": {
          "base_uri": "https://localhost:8080/",
          "height": 265
        },
        "id": "Qx-txaqKTaV-",
        "outputId": "2b41e416-c40a-4976-df58-bcb750da077b"
      },
      "outputs": [
        {
          "data": {
            "image/png": "[encoded data removed]",
            "text/plain": [
              "<Figure size 432x288 with 1 Axes>"
            ]
          },
          "metadata": {
            "needs_background": "light"
          },
          "output_type": "display_data"
        }
      ],
      "source": [
        "segment_len = 6\n",
        "fs = 360\n",
        "\n",
        "segment_start = ab_index[0] - int(segment_len/2*fs)\n",
        "segment_end = ab_index[0] + int(segment_len/2*fs)\n",
        "\n",
        "x = np.arange(len(p_signal))\n",
        "\n",
        "import matplotlib.pyplot as plt\n",
        "\n",
        "plt.figure()\n",
        "plt.plot(x, p_signal[:, 0])\n",
        "plt.plot(x[nor_index], p_signal[nor_index, 0], 'b*', label='normal')\n",
        "plt.plot(x[ab_index], p_signal[ab_index, 0], 'ro', label='abnormal')\n",
        "plt.xlim(segment_start, segment_end)\n",
        "plt.legend();"
      ]
    },
    {
      "cell_type": "code",
      "execution_count": 22,
      "metadata": {
        "id": "HZEmI0G5TaYR"
      },
      "outputs": [],
      "source": [
        "def make_dataset(pts, num_sec, fs, abnormal):\n",
        "  num_cols = 2 * num_sec * fs\n",
        "  X_all = np.zeros((1, num_cols))\n",
        "  Y_all = np.zeros((1,1))\n",
        "  sym_all = []\n",
        "\n",
        "  max_rows = []\n",
        "\n",
        "  for pt in pts:\n",
        "    file = data_path + pt\n",
        "\n",
        "    p_signal, atr_sym, atr_sample = load_ecg(file)\n",
        "\n",
        "    p_signal = p_signal[:, 0]\n",
        "\n",
        "    df_ann = pd.DataFrame({'atr_sym': atr_sym,\n",
        "                           'atr_sample': atr_sample})\n",
        "    df_ann = df_ann.loc[df_ann.atr_sym.isin(abnormal + ['N'])]\n",
        "\n",
        "    X, Y, sym = build_XY(p_signal, df_ann, num_cols, abnormal)\n",
        "    sym_all = sym_all + sym\n",
        "    max_rows.append(X.shape[0])\n",
        "    X_all = np.append(X_all, X, axis = 0)\n",
        "    Y_all = np.append(Y_all, Y, axis = 0)\n",
        "\n",
        "  X_all = X_all [1:, :]\n",
        "  Y_all = Y_all [1:, :]\n",
        "\n",
        "  assert np.sum(max_rows) == X_all.shape[0], 'number of X, max_rows rows messed up'\n",
        "  assert Y_all.shape[0] == X_all.shape[0], 'number of X, Y rows rows messed up'\n",
        "  assert Y_all.shape[0] == len(sym_all), 'number of Y, sym rows messed up'\n",
        "  return X_all, Y_all, sym_all\n",
        "\n",
        "def build_XY(p_signal, df_ann, num_cols, abnormal):\n",
        "  num_rows = len(df_ann)\n",
        "  X = np.zeros((num_rows, num_cols))\n",
        "  Y = np.zeros((num_rows, 1))\n",
        "  sym = []\n",
        "\n",
        "  max_row = 0\n",
        "  for atr_sample, atr_sym in zip(df_ann.atr_sample.values, df_ann.atr_sym.values):\n",
        "    left = max([0, atr_sample - num_sec*fs])\n",
        "    right = min([len(p_signal), (atr_sample + num_sec*fs)])\n",
        "    x = p_signal[left:right]\n",
        "    if len(x) == num_cols:\n",
        "      X[max_row, :] = x\n",
        "      Y[max_row, :] = int(atr_sym in abnormal)\n",
        "      sym.append(atr_sym)\n",
        "      max_row += 1\n",
        "  X = X[:max_row, :]\n",
        "  Y = Y[:max_row, :]\n",
        "\n",
        "  return X, Y, sym\n",
        "  "
      ]
    },
    {
      "cell_type": "code",
      "execution_count": 23,
      "metadata": {
        "colab": {
          "base_uri": "https://localhost:8080/"
        },
        "id": "6O0rUveCTaae",
        "outputId": "a95fad23-3e65-4bd2-d97b-04fed8aff246"
      },
      "outputs": [
        {
          "name": "stdout",
          "output_type": "stream",
          "text": [
            "(100317, 2160)\n",
            "(100317, 1)\n",
            "100317\n"
          ]
        }
      ],
      "source": [
        "num_sec=3\n",
        "fs=360\n",
        "X_all, Y_all, sym_all = make_dataset(pts, num_sec, fs, abnormal)\n",
        "print(X_all.shape)\n",
        "print(Y_all.shape)\n",
        "print(len(sym_all))"
      ]
    },
    {
      "cell_type": "code",
      "execution_count": 24,
      "metadata": {
        "colab": {
          "base_uri": "https://localhost:8080/"
        },
        "id": "-Hng2pokTacm",
        "outputId": "9402f06d-734c-4b80-c290-e39d606ee099"
      },
      "outputs": [
        {
          "name": "stdout",
          "output_type": "stream",
          "text": [
            "(80253, 2160)\n",
            "(80253, 1)\n",
            "(20064, 2160)\n",
            "(20064, 1)\n"
          ]
        }
      ],
      "source": [
        "from sklearn.model_selection import train_test_split\n",
        "\n",
        "X_train, X_test, y_train, y_test = train_test_split(X_all, Y_all, test_size=0.2, stratify=Y_all, random_state=42)\n",
        "\n",
        "print(X_train.shape)\n",
        "print(y_train.shape)\n",
        "print(X_test.shape)\n",
        "print(y_test.shape)"
      ]
    },
    {
      "cell_type": "code",
      "execution_count": 25,
      "metadata": {
        "colab": {
          "base_uri": "https://localhost:8080/"
        },
        "id": "w9Xwb6jSTaey",
        "outputId": "f4746fdd-b056-4b41-b8aa-8c611aa02e3b"
      },
      "outputs": [
        {
          "name": "stdout",
          "output_type": "stream",
          "text": [
            "[0. 1.]\n",
            "[59836 20417]\n"
          ]
        }
      ],
      "source": [
        "sym, sym_count = np.unique(y_train, return_counts=True)\n",
        "print(sym)\n",
        "print(sym_count)"
      ]
    },
    {
      "cell_type": "code",
      "execution_count": 26,
      "metadata": {
        "colab": {
          "base_uri": "https://localhost:8080/"
        },
        "id": "ttzK0opQYPKJ",
        "outputId": "cfe27418-bd14-40c7-dab1-63c687d0eb66"
      },
      "outputs": [
        {
          "name": "stdout",
          "output_type": "stream",
          "text": [
            "[0. 1.]\n",
            "[14959  5105]\n"
          ]
        }
      ],
      "source": [
        "sym, sym_count = np.unique(y_test, return_counts=True)\n",
        "print(sym)\n",
        "print(sym_count)"
      ]
    },
    {
      "cell_type": "code",
      "execution_count": 27,
      "metadata": {
        "id": "7xMi5byNYPMR"
      },
      "outputs": [],
      "source": [
        "from keras.models import Sequential\n",
        "from keras.layers import Dense, Flatten, Dropout"
      ]
    },
    {
      "cell_type": "code",
      "execution_count": 28,
      "metadata": {
        "id": "CWntP8exYPOn"
      },
      "outputs": [],
      "source": [
        "model = Sequential()\n",
        "model.add(Dense(32, activation='relu', input_shape=(2160,)))\n",
        "model.add(Dropout(rate=0.25))\n",
        "model.add(Dense(1, activation='sigmoid'))"
      ]
    },
    {
      "cell_type": "code",
      "execution_count": 29,
      "metadata": {
        "id": "TYvwznTPYPQ_"
      },
      "outputs": [],
      "source": [
        "model.compile(optimizer='adam', loss='binary_crossentropy', metrics=['accuracy'])"
      ]
    },
    {
      "cell_type": "code",
      "execution_count": 30,
      "metadata": {
        "colab": {
          "base_uri": "https://localhost:8080/"
        },
        "id": "qTwjg_WEYPTc",
        "outputId": "f04f9c80-be77-4573-a69b-6869bb8c6497"
      },
      "outputs": [
        {
          "name": "stdout",
          "output_type": "stream",
          "text": [
            "Epoch 1/5\n",
            "2508/2508 [==============================] - 10s 3ms/step - loss: 0.2233 - accuracy: 0.9171\n",
            "Epoch 2/5\n",
            "2508/2508 [==============================] - 8s 3ms/step - loss: 0.1428 - accuracy: 0.9550\n",
            "Epoch 3/5\n",
            "2508/2508 [==============================] - 8s 3ms/step - loss: 0.1250 - accuracy: 0.9610\n",
            "Epoch 4/5\n",
            "2508/2508 [==============================] - 7s 3ms/step - loss: 0.1171 - accuracy: 0.9650\n",
            "Epoch 5/5\n",
            "2508/2508 [==============================] - 8s 3ms/step - loss: 0.1113 - accuracy: 0.9670\n"
          ]
        },
        {
          "data": {
            "text/plain": [
              "<keras.callbacks.History at 0x7f137666e0a0>"
            ]
          },
          "execution_count": 30,
          "metadata": {},
          "output_type": "execute_result"
        }
      ],
      "source": [
        "model.fit(X_train, y_train, batch_size=32, epochs=5, verbose=1)"
      ]
    },
    {
      "cell_type": "code",
      "execution_count": 31,
      "metadata": {
        "colab": {
          "base_uri": "https://localhost:8080/"
        },
        "id": "115jvhX2YPV1",
        "outputId": "782ed69b-72dd-4600-9fb9-67b8edfb29e7"
      },
      "outputs": [
        {
          "name": "stdout",
          "output_type": "stream",
          "text": [
            "627/627 [==============================] - 1s 2ms/step - loss: 0.0943 - accuracy: 0.9731\n"
          ]
        }
      ],
      "source": [
        "loss, acc=model.evaluate(X_test, y_test)"
      ]
    },
    {
      "cell_type": "code",
      "execution_count": 32,
      "metadata": {
        "colab": {
          "base_uri": "https://localhost:8080/"
        },
        "id": "JsARPOFzZBYv",
        "outputId": "9e0e8b54-6264-4d76-c2da-236ee4b4cd69"
      },
      "outputs": [
        {
          "name": "stdout",
          "output_type": "stream",
          "text": [
            "0.9731359481811523\n"
          ]
        }
      ],
      "source": [
        "print(acc)"
      ]
    },
    {
      "cell_type": "code",
      "execution_count": 33,
      "metadata": {
        "colab": {
          "base_uri": "https://localhost:8080/"
        },
        "id": "iV3NWm--ZBbX",
        "outputId": "fae3413f-c0c0-4e21-b4a4-8cd12434b651"
      },
      "outputs": [
        {
          "name": "stdout",
          "output_type": "stream",
          "text": [
            "36 12\n"
          ]
        }
      ],
      "source": [
        "import random\n",
        "random.seed(42)\n",
        "pts_train = random.sample(pts, 36)\n",
        "pts_test = [pt for pt in pts if pt not in pts_train]\n",
        "print(len(pts_train), len(pts_test))"
      ]
    },
    {
      "cell_type": "code",
      "execution_count": 34,
      "metadata": {
        "colab": {
          "base_uri": "https://localhost:8080/"
        },
        "id": "POxGhR-mZBde",
        "outputId": "1ccb1a0b-9c98-413d-90bd-59c687305ff0"
      },
      "outputs": [
        {
          "name": "stdout",
          "output_type": "stream",
          "text": [
            "(74248, 2160) (74248, 1) 74248\n",
            "(26069, 2160) (26069, 1) 26069\n"
          ]
        }
      ],
      "source": [
        "X_train, y_train, sym_train = make_dataset(pts_train, num_sec, fs, abnormal)\n",
        "X_test, y_test, sym_test = make_dataset(pts_test, num_sec, fs, abnormal)\n",
        "print(X_train.shape, y_train.shape, len(sym_train))\n",
        "print(X_test.shape, y_test.shape, len(sym_test))"
      ]
    },
    {
      "cell_type": "code",
      "execution_count": 35,
      "metadata": {
        "colab": {
          "base_uri": "https://localhost:8080/"
        },
        "id": "9VMIt1hCZBfY",
        "outputId": "68759259-0bc0-4e8b-adfc-b917ed906839"
      },
      "outputs": [
        {
          "name": "stdout",
          "output_type": "stream",
          "text": [
            "Epoch 1/5\n",
            "2321/2321 [==============================] - 7s 3ms/step - loss: 0.2129 - accuracy: 0.9253\n",
            "Epoch 2/5\n",
            "2321/2321 [==============================] - 7s 3ms/step - loss: 0.1393 - accuracy: 0.9599\n",
            "Epoch 3/5\n",
            "2321/2321 [==============================] - 7s 3ms/step - loss: 0.1205 - accuracy: 0.9658\n",
            "Epoch 4/5\n",
            "2321/2321 [==============================] - 8s 3ms/step - loss: 0.1103 - accuracy: 0.9686\n",
            "Epoch 5/5\n",
            "2321/2321 [==============================] - 7s 3ms/step - loss: 0.1059 - accuracy: 0.9695\n"
          ]
        },
        {
          "data": {
            "text/plain": [
              "<keras.callbacks.History at 0x7f13763a8dc0>"
            ]
          },
          "execution_count": 35,
          "metadata": {},
          "output_type": "execute_result"
        }
      ],
      "source": [
        "model1 = Sequential()\n",
        "model1.add(Dense(32, activation='relu', input_dim=X_train.shape[1]))\n",
        "model1.add(Dropout(rate=0.25))\n",
        "model1.add(Dense(1, activation='sigmoid'))\n",
        "\n",
        "model1.compile(optimizer='adam', loss='binary_crossentropy', metrics=['accuracy'])\n",
        "model1.fit(X_train, y_train, batch_size=32, epochs=5, verbose=1)"
      ]
    },
    {
      "cell_type": "code",
      "execution_count": 36,
      "metadata": {
        "colab": {
          "base_uri": "https://localhost:8080/"
        },
        "id": "N5McqkPQZ687",
        "outputId": "9943cc49-698c-4476-ca6a-11dbcb67bb0b"
      },
      "outputs": [
        {
          "name": "stdout",
          "output_type": "stream",
          "text": [
            "815/815 [==============================] - 2s 2ms/step - loss: 0.6089 - accuracy: 0.7992\n"
          ]
        }
      ],
      "source": [
        "loss, acc=model1.evaluate(X_test, y_test)"
      ]
    },
    {
      "cell_type": "code",
      "execution_count": 37,
      "metadata": {
        "colab": {
          "base_uri": "https://localhost:8080/"
        },
        "id": "4-bU2Nw4Z667",
        "outputId": "b516c8f4-cd1e-4370-88a1-b674644d910d"
      },
      "outputs": [
        {
          "name": "stdout",
          "output_type": "stream",
          "text": [
            "(74248, 2160, 1)\n",
            "(26069, 2160, 1)\n"
          ]
        }
      ],
      "source": [
        "X_train_cnn = X_train.reshape(X_train.shape[0], X_train.shape[1], 1)\n",
        "X_test_cnn = X_test.reshape(X_test.shape[0], X_test.shape[1], 1)\n",
        "\n",
        "print(X_train_cnn.shape)\n",
        "print(X_test_cnn.shape)"
      ]
    },
    {
      "cell_type": "code",
      "execution_count": 38,
      "metadata": {
        "colab": {
          "base_uri": "https://localhost:8080/"
        },
        "id": "1B_q9K9ebYyn",
        "outputId": "ce55ac12-d337-40ab-d9ee-2f73e3551c09"
      },
      "outputs": [
        {
          "name": "stdout",
          "output_type": "stream",
          "text": [
            "Epoch 1/3\n",
            "2321/2321 [==============================] - 24s 8ms/step - loss: 0.1872 - accuracy: 0.9379\n",
            "Epoch 2/3\n",
            "2321/2321 [==============================] - 18s 8ms/step - loss: 0.1138 - accuracy: 0.9673\n",
            "Epoch 3/3\n",
            "2321/2321 [==============================] - 18s 8ms/step - loss: 0.0945 - accuracy: 0.9713\n"
          ]
        },
        {
          "data": {
            "text/plain": [
              "<keras.callbacks.History at 0x7f1376271d90>"
            ]
          },
          "execution_count": 38,
          "metadata": {},
          "output_type": "execute_result"
        }
      ],
      "source": [
        "from keras.layers import Conv1D\n",
        "\n",
        "model2 = Sequential()\n",
        "model2.add(Conv1D(128, 5, padding='same', activation='relu', input_shape=(2160, 1)))\n",
        "model2.add(Dropout(rate=0.25))\n",
        "model2.add(Flatten())\n",
        "model2.add(Dense(1, activation='sigmoid'))\n",
        "\n",
        "model2.compile(optimizer='adam', loss='binary_crossentropy', metrics=['accuracy'])\n",
        "model2.fit(X_train_cnn, y_train, batch_size=32, epochs=3, verbose=1)"
      ]
    },
    {
      "cell_type": "code",
      "execution_count": 39,
      "metadata": {
        "colab": {
          "base_uri": "https://localhost:8080/"
        },
        "id": "YT6vl9vQbYvL",
        "outputId": "78197a4e-1e5a-488f-f686-c241376b3037"
      },
      "outputs": [
        {
          "name": "stdout",
          "output_type": "stream",
          "text": [
            "815/815 [==============================] - 3s 4ms/step - loss: 0.3517 - accuracy: 0.8537\n",
            "0.853657603263855\n"
          ]
        }
      ],
      "source": [
        "loss, acc=model2.evaluate(X_test_cnn, y_test)\n",
        "print(acc)"
      ]
    },
    {
      "cell_type": "code",
      "execution_count": 39,
      "metadata": {
        "id": "p7lfrEZ6bYsv"
      },
      "outputs": [],
      "source": []
    }
  ],
  "metadata": {
    "accelerator": "GPU",
    "colab": {
      "provenance": []
    },
    "gpuClass": "standard",
    "kernelspec": {
      "display_name": "Python 3",
      "name": "python3"
    },
    "language_info": {
      "name": "python"
    }
  },
  "nbformat": 4,
  "nbformat_minor": 0
}
